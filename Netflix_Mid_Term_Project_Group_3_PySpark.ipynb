{
  "nbformat": 4,
  "nbformat_minor": 0,
  "metadata": {
    "colab": {
      "provenance": [],
      "collapsed_sections": []
    },
    "kernelspec": {
      "name": "python3",
      "display_name": "Python 3"
    },
    "language_info": {
      "name": "python"
    }
  },
  "cells": [
    {
      "cell_type": "code",
      "execution_count": 1,
      "metadata": {
        "colab": {
          "base_uri": "https://localhost:8080/"
        },
        "id": "ikRuxMBOFvbz",
        "outputId": "ceefbb73-6151-470e-9906-a1e1cfb5eef6"
      },
      "outputs": [
        {
          "output_type": "stream",
          "name": "stdout",
          "text": [
            "\r0% [Working]\r            \rGet:1 http://security.ubuntu.com/ubuntu bionic-security InRelease [88.7 kB]\n",
            "\r0% [Connecting to archive.ubuntu.com (185.125.190.39)] [1 InRelease 14.2 kB/88.\r                                                                               \rHit:2 https://cloud.r-project.org/bin/linux/ubuntu bionic-cran40/ InRelease\n",
            "\r0% [Connecting to archive.ubuntu.com (185.125.190.39)] [1 InRelease 14.2 kB/88.\r0% [2 InRelease gpgv 3,626 B] [Connecting to archive.ubuntu.com (185.125.190.39\r0% [2 InRelease gpgv 3,626 B] [Connecting to archive.ubuntu.com (185.125.190.39\r                                                                               \rHit:3 http://archive.ubuntu.com/ubuntu bionic InRelease\n",
            "Hit:4 http://ppa.launchpad.net/c2d4u.team/c2d4u4.0+/ubuntu bionic InRelease\n",
            "Ign:5 https://developer.download.nvidia.com/compute/machine-learning/repos/ubuntu1804/x86_64  InRelease\n",
            "Hit:6 https://developer.download.nvidia.com/compute/cuda/repos/ubuntu1804/x86_64  InRelease\n",
            "Get:7 http://archive.ubuntu.com/ubuntu bionic-updates InRelease [88.7 kB]\n",
            "Hit:8 https://developer.download.nvidia.com/compute/machine-learning/repos/ubuntu1804/x86_64  Release\n",
            "Hit:9 http://ppa.launchpad.net/cran/libgit2/ubuntu bionic InRelease\n",
            "Hit:10 http://ppa.launchpad.net/deadsnakes/ppa/ubuntu bionic InRelease\n",
            "Get:11 http://archive.ubuntu.com/ubuntu bionic-backports InRelease [83.3 kB]\n",
            "Hit:12 http://ppa.launchpad.net/graphics-drivers/ppa/ubuntu bionic InRelease\n",
            "Fetched 261 kB in 2s (120 kB/s)\n",
            "Reading package lists... Done\n"
          ]
        }
      ],
      "source": [
        "# Activate Spark in our Colab notebook.\n",
        "import os\n",
        "spark_version = 'spark-3.2.2'\n",
        "\n",
        "# spark_version = 'spark-3.<enter version>'\n",
        "os.environ['SPARK_VERSION']=spark_version\n",
        "\n",
        "# Install Spark and Java\n",
        "!apt-get update\n",
        "!apt-get install openjdk-11-jdk-headless -qq > /dev/null\n",
        "!wget -q http://www.apache.org/dist/spark/$SPARK_VERSION/$SPARK_VERSION-bin-hadoop3.2.tgz\n",
        "!tar xf $SPARK_VERSION-bin-hadoop3.2.tgz\n",
        "!pip install -q findspark\n",
        "\n",
        "# Set Environment Variables\n",
        "os.environ[\"JAVA_HOME\"] = \"/usr/lib/jvm/java-11-openjdk-amd64\"\n",
        "os.environ[\"SPARK_HOME\"] = f\"/content/{spark_version}-bin-hadoop3.2\""
      ]
    },
    {
      "cell_type": "code",
      "source": [
        "# Start a SparkSession\n",
        "import findspark\n",
        "findspark.init()"
      ],
      "metadata": {
        "id": "LAWeF9kWF_aA"
      },
      "execution_count": 2,
      "outputs": []
    },
    {
      "cell_type": "code",
      "source": [
        "from pyspark.sql import SparkSession\n",
        "spark = SparkSession.builder.appName(\"MidtermProject\").getOrCreate()"
      ],
      "metadata": {
        "id": "4dVfl6Lzev-L"
      },
      "execution_count": 3,
      "outputs": []
    },
    {
      "cell_type": "code",
      "source": [
        "#import additional libraries\n",
        "from pyspark import SparkFiles\n",
        "from pyspark.sql import Row\n",
        "from pyspark.sql.functions import split\n",
        "from pyspark.sql.functions import split, col,substring,regexp_replace\n",
        "from pyspark.sql.types import StructType,StructField,StringType, DateType,IntegerType\n",
        "import numpy as np\n",
        "import pandas as pd\n",
        "import time\n",
        "import matplotlib.pyplot as plt\n",
        "import seaborn as sns\n",
        "from pyspark.sql.functions import *"
      ],
      "metadata": {
        "id": "OG7IbhFqGM1W"
      },
      "execution_count": 4,
      "outputs": []
    },
    {
      "cell_type": "code",
      "source": [
        "#read file into a spark dataframe\n",
        "diabetes_df = spark.read.csv('diabetic_data.csv', sep=\",\", header=True, inferSchema=True)\n",
        "diabetes_df.show()"
      ],
      "metadata": {
        "colab": {
          "base_uri": "https://localhost:8080/"
        },
        "id": "fDwLEBHBed0J",
        "outputId": "5bd4b271-7d9c-4582-fda0-ef698f4c6f64"
      },
      "execution_count": 5,
      "outputs": [
        {
          "output_type": "stream",
          "name": "stdout",
          "text": [
            "+------------+-----------+---------------+------+--------+------+-----------------+------------------------+-------------------+----------------+----------+--------------------+------------------+--------------+---------------+-----------------+----------------+----------------+------+------+------+----------------+-------------+---------+---------+-----------+-----------+--------------+-----------+-------------+---------+---------+-----------+------------+-------------+--------+--------+------------+----------+-------+-----------+-------+-------------------+-------------------+------------------------+-----------------------+----------------------+------+-----------+----------+\n",
            "|encounter_id|patient_nbr|           race|gender|     age|weight|admission_type_id|discharge_disposition_id|admission_source_id|time_in_hospital|payer_code|   medical_specialty|num_lab_procedures|num_procedures|num_medications|number_outpatient|number_emergency|number_inpatient|diag_1|diag_2|diag_3|number_diagnoses|max_glu_serum|A1Cresult|metformin|repaglinide|nateglinide|chlorpropamide|glimepiride|acetohexamide|glipizide|glyburide|tolbutamide|pioglitazone|rosiglitazone|acarbose|miglitol|troglitazone|tolazamide|examide|citoglipton|insulin|glyburide-metformin|glipizide-metformin|glimepiride-pioglitazone|metformin-rosiglitazone|metformin-pioglitazone|change|diabetesMed|readmitted|\n",
            "+------------+-----------+---------------+------+--------+------+-----------------+------------------------+-------------------+----------------+----------+--------------------+------------------+--------------+---------------+-----------------+----------------+----------------+------+------+------+----------------+-------------+---------+---------+-----------+-----------+--------------+-----------+-------------+---------+---------+-----------+------------+-------------+--------+--------+------------+----------+-------+-----------+-------+-------------------+-------------------+------------------------+-----------------------+----------------------+------+-----------+----------+\n",
            "|     2278392|    8222157|      Caucasian|Female|  [0-10)|     ?|                6|                      25|                  1|               1|         ?|Pediatrics-Endocr...|                41|             0|              1|                0|               0|               0|250.83|     ?|     ?|               1|         None|     None|       No|         No|         No|            No|         No|           No|       No|       No|         No|          No|           No|      No|      No|          No|        No|     No|         No|     No|                 No|                 No|                      No|                     No|                    No|    No|         No|        NO|\n",
            "|      149190|   55629189|      Caucasian|Female| [10-20)|     ?|                1|                       1|                  7|               3|         ?|                   ?|                59|             0|             18|                0|               0|               0|   276|250.01|   255|               9|         None|     None|       No|         No|         No|            No|         No|           No|       No|       No|         No|          No|           No|      No|      No|          No|        No|     No|         No|     Up|                 No|                 No|                      No|                     No|                    No|    Ch|        Yes|       >30|\n",
            "|       64410|   86047875|AfricanAmerican|Female| [20-30)|     ?|                1|                       1|                  7|               2|         ?|                   ?|                11|             5|             13|                2|               0|               1|   648|   250|   V27|               6|         None|     None|       No|         No|         No|            No|         No|           No|   Steady|       No|         No|          No|           No|      No|      No|          No|        No|     No|         No|     No|                 No|                 No|                      No|                     No|                    No|    No|        Yes|        NO|\n",
            "|      500364|   82442376|      Caucasian|  Male| [30-40)|     ?|                1|                       1|                  7|               2|         ?|                   ?|                44|             1|             16|                0|               0|               0|     8|250.43|   403|               7|         None|     None|       No|         No|         No|            No|         No|           No|       No|       No|         No|          No|           No|      No|      No|          No|        No|     No|         No|     Up|                 No|                 No|                      No|                     No|                    No|    Ch|        Yes|        NO|\n",
            "|       16680|   42519267|      Caucasian|  Male| [40-50)|     ?|                1|                       1|                  7|               1|         ?|                   ?|                51|             0|              8|                0|               0|               0|   197|   157|   250|               5|         None|     None|       No|         No|         No|            No|         No|           No|   Steady|       No|         No|          No|           No|      No|      No|          No|        No|     No|         No| Steady|                 No|                 No|                      No|                     No|                    No|    Ch|        Yes|        NO|\n",
            "|       35754|   82637451|      Caucasian|  Male| [50-60)|     ?|                2|                       1|                  2|               3|         ?|                   ?|                31|             6|             16|                0|               0|               0|   414|   411|   250|               9|         None|     None|       No|         No|         No|            No|         No|           No|       No|       No|         No|          No|           No|      No|      No|          No|        No|     No|         No| Steady|                 No|                 No|                      No|                     No|                    No|    No|        Yes|       >30|\n",
            "|       55842|   84259809|      Caucasian|  Male| [60-70)|     ?|                3|                       1|                  2|               4|         ?|                   ?|                70|             1|             21|                0|               0|               0|   414|   411|   V45|               7|         None|     None|   Steady|         No|         No|            No|     Steady|           No|       No|       No|         No|          No|           No|      No|      No|          No|        No|     No|         No| Steady|                 No|                 No|                      No|                     No|                    No|    Ch|        Yes|        NO|\n",
            "|       63768|  114882984|      Caucasian|  Male| [70-80)|     ?|                1|                       1|                  7|               5|         ?|                   ?|                73|             0|             12|                0|               0|               0|   428|   492|   250|               8|         None|     None|       No|         No|         No|            No|         No|           No|       No|   Steady|         No|          No|           No|      No|      No|          No|        No|     No|         No|     No|                 No|                 No|                      No|                     No|                    No|    No|        Yes|       >30|\n",
            "|       12522|   48330783|      Caucasian|Female| [80-90)|     ?|                2|                       1|                  4|              13|         ?|                   ?|                68|             2|             28|                0|               0|               0|   398|   427|    38|               8|         None|     None|       No|         No|         No|            No|         No|           No|   Steady|       No|         No|          No|           No|      No|      No|          No|        No|     No|         No| Steady|                 No|                 No|                      No|                     No|                    No|    Ch|        Yes|        NO|\n",
            "|       15738|   63555939|      Caucasian|Female|[90-100)|     ?|                3|                       3|                  4|              12|         ?|    InternalMedicine|                33|             3|             18|                0|               0|               0|   434|   198|   486|               8|         None|     None|       No|         No|         No|            No|         No|           No|       No|       No|         No|          No|       Steady|      No|      No|          No|        No|     No|         No| Steady|                 No|                 No|                      No|                     No|                    No|    Ch|        Yes|        NO|\n",
            "|       28236|   89869032|AfricanAmerican|Female| [40-50)|     ?|                1|                       1|                  7|               9|         ?|                   ?|                47|             2|             17|                0|               0|               0| 250.7|   403|   996|               9|         None|     None|       No|         No|         No|            No|         No|           No|       No|       No|         No|          No|           No|      No|      No|          No|        No|     No|         No| Steady|                 No|                 No|                      No|                     No|                    No|    No|        Yes|       >30|\n",
            "|       36900|   77391171|AfricanAmerican|  Male| [60-70)|     ?|                2|                       1|                  4|               7|         ?|                   ?|                62|             0|             11|                0|               0|               0|   157|   288|   197|               7|         None|     None|       No|         No|         No|            No|         No|           No|       No|       Up|         No|          No|           No|      No|      No|          No|        No|     No|         No| Steady|                 No|                 No|                      No|                     No|                    No|    Ch|        Yes|       <30|\n",
            "|       40926|   85504905|      Caucasian|Female| [40-50)|     ?|                1|                       3|                  7|               7|         ?|Family/GeneralPra...|                60|             0|             15|                0|               1|               0|   428|250.43| 250.6|               8|         None|     None|   Steady|         Up|         No|            No|         No|           No|       No|       No|         No|          No|           No|      No|      No|          No|        No|     No|         No|   Down|                 No|                 No|                      No|                     No|                    No|    Ch|        Yes|       <30|\n",
            "|       42570|   77586282|      Caucasian|  Male| [80-90)|     ?|                1|                       6|                  7|              10|         ?|Family/GeneralPra...|                55|             1|             31|                0|               0|               0|   428|   411|   427|               8|         None|     None|       No|         No|         No|            No|         No|           No|       No|       No|         No|          No|           No|      No|      No|          No|        No|     No|         No| Steady|                 No|                 No|                      No|                     No|                    No|    No|        Yes|        NO|\n",
            "|       62256|   49726791|AfricanAmerican|Female| [60-70)|     ?|                3|                       1|                  2|               1|         ?|                   ?|                49|             5|              2|                0|               0|               0|   518|   998|   627|               8|         None|     None|       No|         No|         No|            No|         No|           No|       No|       No|         No|          No|           No|      No|      No|          No|        No|     No|         No| Steady|                 No|                 No|                      No|                     No|                    No|    No|        Yes|       >30|\n",
            "|       73578|   86328819|AfricanAmerican|  Male| [60-70)|     ?|                1|                       3|                  7|              12|         ?|                   ?|                75|             5|             13|                0|               0|               0|   999|   507|   996|               9|         None|     None|       No|         No|         No|            No|         No|           No|       No|       No|         No|          No|           No|      No|      No|          No|        No|     No|         No|     Up|                 No|                 No|                      No|                     No|                    No|    Ch|        Yes|        NO|\n",
            "|       77076|   92519352|AfricanAmerican|  Male| [50-60)|     ?|                1|                       1|                  7|               4|         ?|                   ?|                45|             4|             17|                0|               0|               0|   410|   411|   414|               8|         None|     None|       No|         No|         No|            No|         No|           No|   Steady|       No|         No|          No|           No|      No|      No|          No|        No|     No|         No| Steady|                 No|                 No|                      No|                     No|                    No|    Ch|        Yes|       <30|\n",
            "|       84222|  108662661|      Caucasian|Female| [50-60)|     ?|                1|                       1|                  7|               3|         ?|          Cardiology|                29|             0|             11|                0|               0|               0|   682|   174|   250|               3|         None|     None|       No|         No|         No|            No|         No|           No|       No|   Steady|         No|          No|           No|      No|      No|          No|        No|     No|         No|     No|                 No|                 No|                      No|                     No|                    No|    No|        Yes|        NO|\n",
            "|       89682|  107389323|AfricanAmerican|  Male| [70-80)|     ?|                1|                       1|                  7|               5|         ?|                   ?|                35|             5|             23|                0|               0|               0|   402|   425|   416|               9|         None|     None|       No|         No|         No|            No|         No|           No|       No|       No|         No|          No|           No|      No|      No|          No|        No|     No|         No| Steady|                 No|                 No|                      No|                     No|                    No|    No|        Yes|       >30|\n",
            "|      148530|   69422211|              ?|  Male| [70-80)|     ?|                3|                       6|                  2|               6|         ?|                   ?|                42|             2|             23|                0|               0|               0|   737|   427|   714|               8|         None|     None|       No|         No|         No|            No|         No|           No|       No|     Down|         No|          No|           No|      No|      No|          No|        No|     No|         No| Steady|                 No|                 No|                      No|                     No|                    No|    Ch|        Yes|        NO|\n",
            "+------------+-----------+---------------+------+--------+------+-----------------+------------------------+-------------------+----------------+----------+--------------------+------------------+--------------+---------------+-----------------+----------------+----------------+------+------+------+----------------+-------------+---------+---------+-----------+-----------+--------------+-----------+-------------+---------+---------+-----------+------------+-------------+--------+--------+------------+----------+-------+-----------+-------+-------------------+-------------------+------------------------+-----------------------+----------------------+------+-----------+----------+\n",
            "only showing top 20 rows\n",
            "\n"
          ]
        }
      ]
    },
    {
      "cell_type": "code",
      "source": [
        "#show the schema of the dataset\n",
        "diabetes_df.printSchema()"
      ],
      "metadata": {
        "id": "IT2k428HfGRs",
        "colab": {
          "base_uri": "https://localhost:8080/"
        },
        "outputId": "101cef0f-86eb-412c-aac1-2dc0780007ac"
      },
      "execution_count": 6,
      "outputs": [
        {
          "output_type": "stream",
          "name": "stdout",
          "text": [
            "root\n",
            " |-- encounter_id: integer (nullable = true)\n",
            " |-- patient_nbr: integer (nullable = true)\n",
            " |-- race: string (nullable = true)\n",
            " |-- gender: string (nullable = true)\n",
            " |-- age: string (nullable = true)\n",
            " |-- weight: string (nullable = true)\n",
            " |-- admission_type_id: integer (nullable = true)\n",
            " |-- discharge_disposition_id: integer (nullable = true)\n",
            " |-- admission_source_id: integer (nullable = true)\n",
            " |-- time_in_hospital: integer (nullable = true)\n",
            " |-- payer_code: string (nullable = true)\n",
            " |-- medical_specialty: string (nullable = true)\n",
            " |-- num_lab_procedures: integer (nullable = true)\n",
            " |-- num_procedures: integer (nullable = true)\n",
            " |-- num_medications: integer (nullable = true)\n",
            " |-- number_outpatient: integer (nullable = true)\n",
            " |-- number_emergency: integer (nullable = true)\n",
            " |-- number_inpatient: integer (nullable = true)\n",
            " |-- diag_1: string (nullable = true)\n",
            " |-- diag_2: string (nullable = true)\n",
            " |-- diag_3: string (nullable = true)\n",
            " |-- number_diagnoses: integer (nullable = true)\n",
            " |-- max_glu_serum: string (nullable = true)\n",
            " |-- A1Cresult: string (nullable = true)\n",
            " |-- metformin: string (nullable = true)\n",
            " |-- repaglinide: string (nullable = true)\n",
            " |-- nateglinide: string (nullable = true)\n",
            " |-- chlorpropamide: string (nullable = true)\n",
            " |-- glimepiride: string (nullable = true)\n",
            " |-- acetohexamide: string (nullable = true)\n",
            " |-- glipizide: string (nullable = true)\n",
            " |-- glyburide: string (nullable = true)\n",
            " |-- tolbutamide: string (nullable = true)\n",
            " |-- pioglitazone: string (nullable = true)\n",
            " |-- rosiglitazone: string (nullable = true)\n",
            " |-- acarbose: string (nullable = true)\n",
            " |-- miglitol: string (nullable = true)\n",
            " |-- troglitazone: string (nullable = true)\n",
            " |-- tolazamide: string (nullable = true)\n",
            " |-- examide: string (nullable = true)\n",
            " |-- citoglipton: string (nullable = true)\n",
            " |-- insulin: string (nullable = true)\n",
            " |-- glyburide-metformin: string (nullable = true)\n",
            " |-- glipizide-metformin: string (nullable = true)\n",
            " |-- glimepiride-pioglitazone: string (nullable = true)\n",
            " |-- metformin-rosiglitazone: string (nullable = true)\n",
            " |-- metformin-pioglitazone: string (nullable = true)\n",
            " |-- change: string (nullable = true)\n",
            " |-- diabetesMed: string (nullable = true)\n",
            " |-- readmitted: string (nullable = true)\n",
            "\n"
          ]
        }
      ]
    },
    {
      "cell_type": "markdown",
      "source": [
        "ETL Process"
      ],
      "metadata": {
        "id": "eQ-5d6z7fNax"
      }
    },
    {
      "cell_type": "code",
      "source": [
        "#drop weight, payor_code, medical speacialty\n",
        "diabetes_df_dropped_col_3=diabetes_df.drop('weight','medical_specialty','payer_code')\n",
        "diabetes_df_dropped_col_3.show(5)"
      ],
      "metadata": {
        "id": "sU41jC7efRC4",
        "colab": {
          "base_uri": "https://localhost:8080/"
        },
        "outputId": "f960547e-cdc5-44ce-8fac-08ede5c6ead4"
      },
      "execution_count": 7,
      "outputs": [
        {
          "output_type": "stream",
          "name": "stdout",
          "text": [
            "+------------+-----------+---------------+------+-------+-----------------+------------------------+-------------------+----------------+------------------+--------------+---------------+-----------------+----------------+----------------+------+------+------+----------------+-------------+---------+---------+-----------+-----------+--------------+-----------+-------------+---------+---------+-----------+------------+-------------+--------+--------+------------+----------+-------+-----------+-------+-------------------+-------------------+------------------------+-----------------------+----------------------+------+-----------+----------+\n",
            "|encounter_id|patient_nbr|           race|gender|    age|admission_type_id|discharge_disposition_id|admission_source_id|time_in_hospital|num_lab_procedures|num_procedures|num_medications|number_outpatient|number_emergency|number_inpatient|diag_1|diag_2|diag_3|number_diagnoses|max_glu_serum|A1Cresult|metformin|repaglinide|nateglinide|chlorpropamide|glimepiride|acetohexamide|glipizide|glyburide|tolbutamide|pioglitazone|rosiglitazone|acarbose|miglitol|troglitazone|tolazamide|examide|citoglipton|insulin|glyburide-metformin|glipizide-metformin|glimepiride-pioglitazone|metformin-rosiglitazone|metformin-pioglitazone|change|diabetesMed|readmitted|\n",
            "+------------+-----------+---------------+------+-------+-----------------+------------------------+-------------------+----------------+------------------+--------------+---------------+-----------------+----------------+----------------+------+------+------+----------------+-------------+---------+---------+-----------+-----------+--------------+-----------+-------------+---------+---------+-----------+------------+-------------+--------+--------+------------+----------+-------+-----------+-------+-------------------+-------------------+------------------------+-----------------------+----------------------+------+-----------+----------+\n",
            "|     2278392|    8222157|      Caucasian|Female| [0-10)|                6|                      25|                  1|               1|                41|             0|              1|                0|               0|               0|250.83|     ?|     ?|               1|         None|     None|       No|         No|         No|            No|         No|           No|       No|       No|         No|          No|           No|      No|      No|          No|        No|     No|         No|     No|                 No|                 No|                      No|                     No|                    No|    No|         No|        NO|\n",
            "|      149190|   55629189|      Caucasian|Female|[10-20)|                1|                       1|                  7|               3|                59|             0|             18|                0|               0|               0|   276|250.01|   255|               9|         None|     None|       No|         No|         No|            No|         No|           No|       No|       No|         No|          No|           No|      No|      No|          No|        No|     No|         No|     Up|                 No|                 No|                      No|                     No|                    No|    Ch|        Yes|       >30|\n",
            "|       64410|   86047875|AfricanAmerican|Female|[20-30)|                1|                       1|                  7|               2|                11|             5|             13|                2|               0|               1|   648|   250|   V27|               6|         None|     None|       No|         No|         No|            No|         No|           No|   Steady|       No|         No|          No|           No|      No|      No|          No|        No|     No|         No|     No|                 No|                 No|                      No|                     No|                    No|    No|        Yes|        NO|\n",
            "|      500364|   82442376|      Caucasian|  Male|[30-40)|                1|                       1|                  7|               2|                44|             1|             16|                0|               0|               0|     8|250.43|   403|               7|         None|     None|       No|         No|         No|            No|         No|           No|       No|       No|         No|          No|           No|      No|      No|          No|        No|     No|         No|     Up|                 No|                 No|                      No|                     No|                    No|    Ch|        Yes|        NO|\n",
            "|       16680|   42519267|      Caucasian|  Male|[40-50)|                1|                       1|                  7|               1|                51|             0|              8|                0|               0|               0|   197|   157|   250|               5|         None|     None|       No|         No|         No|            No|         No|           No|   Steady|       No|         No|          No|           No|      No|      No|          No|        No|     No|         No| Steady|                 No|                 No|                      No|                     No|                    No|    Ch|        Yes|        NO|\n",
            "+------------+-----------+---------------+------+-------+-----------------+------------------------+-------------------+----------------+------------------+--------------+---------------+-----------------+----------------+----------------+------+------+------+----------------+-------------+---------+---------+-----------+-----------+--------------+-----------+-------------+---------+---------+-----------+------------+-------------+--------+--------+------------+----------+-------+-----------+-------+-------------------+-------------------+------------------------+-----------------------+----------------------+------+-----------+----------+\n",
            "only showing top 5 rows\n",
            "\n"
          ]
        }
      ]
    },
    {
      "cell_type": "code",
      "source": [
        "#replace question mark signs with Na\n",
        "diabetes_df_w_nulls=diabetes_df_dropped_col_3.replace(\"?\",None)\n",
        "diabetes_df_w_nulls.show(5)"
      ],
      "metadata": {
        "id": "3oaFPvfSfate",
        "colab": {
          "base_uri": "https://localhost:8080/"
        },
        "outputId": "e0728201-39e8-45ef-a605-b7ef33583dea"
      },
      "execution_count": 8,
      "outputs": [
        {
          "output_type": "stream",
          "name": "stdout",
          "text": [
            "+------------+-----------+---------------+------+-------+-----------------+------------------------+-------------------+----------------+------------------+--------------+---------------+-----------------+----------------+----------------+------+------+------+----------------+-------------+---------+---------+-----------+-----------+--------------+-----------+-------------+---------+---------+-----------+------------+-------------+--------+--------+------------+----------+-------+-----------+-------+-------------------+-------------------+------------------------+-----------------------+----------------------+------+-----------+----------+\n",
            "|encounter_id|patient_nbr|           race|gender|    age|admission_type_id|discharge_disposition_id|admission_source_id|time_in_hospital|num_lab_procedures|num_procedures|num_medications|number_outpatient|number_emergency|number_inpatient|diag_1|diag_2|diag_3|number_diagnoses|max_glu_serum|A1Cresult|metformin|repaglinide|nateglinide|chlorpropamide|glimepiride|acetohexamide|glipizide|glyburide|tolbutamide|pioglitazone|rosiglitazone|acarbose|miglitol|troglitazone|tolazamide|examide|citoglipton|insulin|glyburide-metformin|glipizide-metformin|glimepiride-pioglitazone|metformin-rosiglitazone|metformin-pioglitazone|change|diabetesMed|readmitted|\n",
            "+------------+-----------+---------------+------+-------+-----------------+------------------------+-------------------+----------------+------------------+--------------+---------------+-----------------+----------------+----------------+------+------+------+----------------+-------------+---------+---------+-----------+-----------+--------------+-----------+-------------+---------+---------+-----------+------------+-------------+--------+--------+------------+----------+-------+-----------+-------+-------------------+-------------------+------------------------+-----------------------+----------------------+------+-----------+----------+\n",
            "|     2278392|    8222157|      Caucasian|Female| [0-10)|                6|                      25|                  1|               1|                41|             0|              1|                0|               0|               0|250.83|  null|  null|               1|         None|     None|       No|         No|         No|            No|         No|           No|       No|       No|         No|          No|           No|      No|      No|          No|        No|     No|         No|     No|                 No|                 No|                      No|                     No|                    No|    No|         No|        NO|\n",
            "|      149190|   55629189|      Caucasian|Female|[10-20)|                1|                       1|                  7|               3|                59|             0|             18|                0|               0|               0|   276|250.01|   255|               9|         None|     None|       No|         No|         No|            No|         No|           No|       No|       No|         No|          No|           No|      No|      No|          No|        No|     No|         No|     Up|                 No|                 No|                      No|                     No|                    No|    Ch|        Yes|       >30|\n",
            "|       64410|   86047875|AfricanAmerican|Female|[20-30)|                1|                       1|                  7|               2|                11|             5|             13|                2|               0|               1|   648|   250|   V27|               6|         None|     None|       No|         No|         No|            No|         No|           No|   Steady|       No|         No|          No|           No|      No|      No|          No|        No|     No|         No|     No|                 No|                 No|                      No|                     No|                    No|    No|        Yes|        NO|\n",
            "|      500364|   82442376|      Caucasian|  Male|[30-40)|                1|                       1|                  7|               2|                44|             1|             16|                0|               0|               0|     8|250.43|   403|               7|         None|     None|       No|         No|         No|            No|         No|           No|       No|       No|         No|          No|           No|      No|      No|          No|        No|     No|         No|     Up|                 No|                 No|                      No|                     No|                    No|    Ch|        Yes|        NO|\n",
            "|       16680|   42519267|      Caucasian|  Male|[40-50)|                1|                       1|                  7|               1|                51|             0|              8|                0|               0|               0|   197|   157|   250|               5|         None|     None|       No|         No|         No|            No|         No|           No|   Steady|       No|         No|          No|           No|      No|      No|          No|        No|     No|         No| Steady|                 No|                 No|                      No|                     No|                    No|    Ch|        Yes|        NO|\n",
            "+------------+-----------+---------------+------+-------+-----------------+------------------------+-------------------+----------------+------------------+--------------+---------------+-----------------+----------------+----------------+------+------+------+----------------+-------------+---------+---------+-----------+-----------+--------------+-----------+-------------+---------+---------+-----------+------------+-------------+--------+--------+------------+----------+-------+-----------+-------+-------------------+-------------------+------------------------+-----------------------+----------------------+------+-----------+----------+\n",
            "only showing top 5 rows\n",
            "\n"
          ]
        }
      ]
    },
    {
      "cell_type": "code",
      "source": [
        "#check if dataframe has been updated and can now contain null values.\n",
        "nulls_dropped_diabetes_df = diabetes_df_w_nulls.na.drop(\"any\")\n",
        "nulls_dropped_diabetes_df.show(5)"
      ],
      "metadata": {
        "id": "M_pGeLsKfdTy",
        "colab": {
          "base_uri": "https://localhost:8080/"
        },
        "outputId": "180e68bd-2f3c-44f9-a619-f62259bf54cd"
      },
      "execution_count": 9,
      "outputs": [
        {
          "output_type": "stream",
          "name": "stdout",
          "text": [
            "+------------+-----------+---------------+------+-------+-----------------+------------------------+-------------------+----------------+------------------+--------------+---------------+-----------------+----------------+----------------+------+------+------+----------------+-------------+---------+---------+-----------+-----------+--------------+-----------+-------------+---------+---------+-----------+------------+-------------+--------+--------+------------+----------+-------+-----------+-------+-------------------+-------------------+------------------------+-----------------------+----------------------+------+-----------+----------+\n",
            "|encounter_id|patient_nbr|           race|gender|    age|admission_type_id|discharge_disposition_id|admission_source_id|time_in_hospital|num_lab_procedures|num_procedures|num_medications|number_outpatient|number_emergency|number_inpatient|diag_1|diag_2|diag_3|number_diagnoses|max_glu_serum|A1Cresult|metformin|repaglinide|nateglinide|chlorpropamide|glimepiride|acetohexamide|glipizide|glyburide|tolbutamide|pioglitazone|rosiglitazone|acarbose|miglitol|troglitazone|tolazamide|examide|citoglipton|insulin|glyburide-metformin|glipizide-metformin|glimepiride-pioglitazone|metformin-rosiglitazone|metformin-pioglitazone|change|diabetesMed|readmitted|\n",
            "+------------+-----------+---------------+------+-------+-----------------+------------------------+-------------------+----------------+------------------+--------------+---------------+-----------------+----------------+----------------+------+------+------+----------------+-------------+---------+---------+-----------+-----------+--------------+-----------+-------------+---------+---------+-----------+------------+-------------+--------+--------+------------+----------+-------+-----------+-------+-------------------+-------------------+------------------------+-----------------------+----------------------+------+-----------+----------+\n",
            "|      149190|   55629189|      Caucasian|Female|[10-20)|                1|                       1|                  7|               3|                59|             0|             18|                0|               0|               0|   276|250.01|   255|               9|         None|     None|       No|         No|         No|            No|         No|           No|       No|       No|         No|          No|           No|      No|      No|          No|        No|     No|         No|     Up|                 No|                 No|                      No|                     No|                    No|    Ch|        Yes|       >30|\n",
            "|       64410|   86047875|AfricanAmerican|Female|[20-30)|                1|                       1|                  7|               2|                11|             5|             13|                2|               0|               1|   648|   250|   V27|               6|         None|     None|       No|         No|         No|            No|         No|           No|   Steady|       No|         No|          No|           No|      No|      No|          No|        No|     No|         No|     No|                 No|                 No|                      No|                     No|                    No|    No|        Yes|        NO|\n",
            "|      500364|   82442376|      Caucasian|  Male|[30-40)|                1|                       1|                  7|               2|                44|             1|             16|                0|               0|               0|     8|250.43|   403|               7|         None|     None|       No|         No|         No|            No|         No|           No|       No|       No|         No|          No|           No|      No|      No|          No|        No|     No|         No|     Up|                 No|                 No|                      No|                     No|                    No|    Ch|        Yes|        NO|\n",
            "|       16680|   42519267|      Caucasian|  Male|[40-50)|                1|                       1|                  7|               1|                51|             0|              8|                0|               0|               0|   197|   157|   250|               5|         None|     None|       No|         No|         No|            No|         No|           No|   Steady|       No|         No|          No|           No|      No|      No|          No|        No|     No|         No| Steady|                 No|                 No|                      No|                     No|                    No|    Ch|        Yes|        NO|\n",
            "|       35754|   82637451|      Caucasian|  Male|[50-60)|                2|                       1|                  2|               3|                31|             6|             16|                0|               0|               0|   414|   411|   250|               9|         None|     None|       No|         No|         No|            No|         No|           No|       No|       No|         No|          No|           No|      No|      No|          No|        No|     No|         No| Steady|                 No|                 No|                      No|                     No|                    No|    No|        Yes|       >30|\n",
            "+------------+-----------+---------------+------+-------+-----------------+------------------------+-------------------+----------------+------------------+--------------+---------------+-----------------+----------------+----------------+------+------+------+----------------+-------------+---------+---------+-----------+-----------+--------------+-----------+-------------+---------+---------+-----------+------------+-------------+--------+--------+------------+----------+-------+-----------+-------+-------------------+-------------------+------------------------+-----------------------+----------------------+------+-----------+----------+\n",
            "only showing top 5 rows\n",
            "\n"
          ]
        }
      ]
    },
    {
      "cell_type": "code",
      "source": [
        "#print schema to check the number of columns and see if the columns have the option of becoming null\n",
        "nulls_dropped_diabetes_df.printSchema()"
      ],
      "metadata": {
        "id": "IqHmfzRlf2HZ",
        "colab": {
          "base_uri": "https://localhost:8080/"
        },
        "outputId": "89af0d17-346f-4457-a487-f3753af9969b"
      },
      "execution_count": 10,
      "outputs": [
        {
          "output_type": "stream",
          "name": "stdout",
          "text": [
            "root\n",
            " |-- encounter_id: integer (nullable = true)\n",
            " |-- patient_nbr: integer (nullable = true)\n",
            " |-- race: string (nullable = true)\n",
            " |-- gender: string (nullable = true)\n",
            " |-- age: string (nullable = true)\n",
            " |-- admission_type_id: integer (nullable = true)\n",
            " |-- discharge_disposition_id: integer (nullable = true)\n",
            " |-- admission_source_id: integer (nullable = true)\n",
            " |-- time_in_hospital: integer (nullable = true)\n",
            " |-- num_lab_procedures: integer (nullable = true)\n",
            " |-- num_procedures: integer (nullable = true)\n",
            " |-- num_medications: integer (nullable = true)\n",
            " |-- number_outpatient: integer (nullable = true)\n",
            " |-- number_emergency: integer (nullable = true)\n",
            " |-- number_inpatient: integer (nullable = true)\n",
            " |-- diag_1: string (nullable = true)\n",
            " |-- diag_2: string (nullable = true)\n",
            " |-- diag_3: string (nullable = true)\n",
            " |-- number_diagnoses: integer (nullable = true)\n",
            " |-- max_glu_serum: string (nullable = true)\n",
            " |-- A1Cresult: string (nullable = true)\n",
            " |-- metformin: string (nullable = true)\n",
            " |-- repaglinide: string (nullable = true)\n",
            " |-- nateglinide: string (nullable = true)\n",
            " |-- chlorpropamide: string (nullable = true)\n",
            " |-- glimepiride: string (nullable = true)\n",
            " |-- acetohexamide: string (nullable = true)\n",
            " |-- glipizide: string (nullable = true)\n",
            " |-- glyburide: string (nullable = true)\n",
            " |-- tolbutamide: string (nullable = true)\n",
            " |-- pioglitazone: string (nullable = true)\n",
            " |-- rosiglitazone: string (nullable = true)\n",
            " |-- acarbose: string (nullable = true)\n",
            " |-- miglitol: string (nullable = true)\n",
            " |-- troglitazone: string (nullable = true)\n",
            " |-- tolazamide: string (nullable = true)\n",
            " |-- examide: string (nullable = true)\n",
            " |-- citoglipton: string (nullable = true)\n",
            " |-- insulin: string (nullable = true)\n",
            " |-- glyburide-metformin: string (nullable = true)\n",
            " |-- glipizide-metformin: string (nullable = true)\n",
            " |-- glimepiride-pioglitazone: string (nullable = true)\n",
            " |-- metformin-rosiglitazone: string (nullable = true)\n",
            " |-- metformin-pioglitazone: string (nullable = true)\n",
            " |-- change: string (nullable = true)\n",
            " |-- diabetesMed: string (nullable = true)\n",
            " |-- readmitted: string (nullable = true)\n",
            "\n"
          ]
        }
      ]
    },
    {
      "cell_type": "markdown",
      "source": [
        "### Break down the Master dataset into normalized tables.\n",
        "# Patient\n",
        "*   patient_nbr (PK)\n",
        "*   age\n",
        "*   gender\n",
        "*   race\n",
        "# Admission_type\n",
        "*   admission_type_id (PK)\n",
        "*   admission_name\n",
        "# Admission source\n",
        "*   admission_source_id (PK)\n",
        "*   asmission_source_name\n",
        "# Discharge Table\n",
        "-discharge_disposition_id (PK)\n",
        "-discharge_name\n",
        "# Medication Table\n",
        "-medication__id (PK)\n",
        "-medication_type\n",
        "# Patient_medication Table\n",
        "-medication__id (PK)\n",
        "-encounter_id (PK)\n",
        "-change_in_dosage\n",
        "# Diagnosis Table\n",
        "-diagnosis_id\n",
        "-diagnosis_type\n",
        "# Encounter Table\n",
        "-encounter_id (PK)\n",
        "-patient_nbr (FK)\n",
        "-num_lab_procedures\n",
        "-num_procedures\n",
        "-num_medications\n",
        "-number_emergency\n",
        "-number_outpatient\n",
        "-number_inpatient\n",
        "-time_in_hospital\n",
        "-readmitted\n",
        "-admission_type_id (FK)\n",
        "-admission_source_id (FK)\n",
        "-discharge_disposition_id (FK)\n",
        "-diag_1(FK)\n",
        "-diag_2(FK)\n",
        "-diag_3(FK)\n",
        "-number_diagnoses\n",
        "-change\n",
        "-A1Cresult\n",
        "-max_glu_serum\n",
        "-diabetesMed"
      ],
      "metadata": {
        "id": "6Ss0PbK6f-9l"
      }
    },
    {
      "cell_type": "code",
      "source": [
        "#create a patient table with unique patient number to remove duplicates\n",
        "def patient_tab(df):\n",
        "  uniq_patient_number=df.drop_duplicates(subset = [\"patient_nbr\"])\n",
        "  patient_table=uniq_patient_number[['patient_nbr','age','race','gender']]\n",
        "  return patient_table"
      ],
      "metadata": {
        "id": "Ss1ivYhug6It"
      },
      "execution_count": 11,
      "outputs": []
    },
    {
      "cell_type": "code",
      "source": [
        "#call on the patient tab fundtion to see the patient table\n",
        "patient_table=patient_tab(nulls_dropped_diabetes_df)\n",
        "patient_table.show(5)"
      ],
      "metadata": {
        "id": "4ukz_zEFhA6g",
        "colab": {
          "base_uri": "https://localhost:8080/"
        },
        "outputId": "2af4729b-b0e2-4ece-817c-b0fba961ca37"
      },
      "execution_count": 12,
      "outputs": [
        {
          "output_type": "stream",
          "name": "stdout",
          "text": [
            "+-----------+-------+---------------+------+\n",
            "|patient_nbr|    age|           race|gender|\n",
            "+-----------+-------+---------------+------+\n",
            "|        135|[50-60)|      Caucasian|Female|\n",
            "|        378|[50-60)|      Caucasian|Female|\n",
            "|        729|[80-90)|      Caucasian|Female|\n",
            "|        774|[80-90)|      Caucasian|Female|\n",
            "|        927|[30-40)|AfricanAmerican|Female|\n",
            "+-----------+-------+---------------+------+\n",
            "only showing top 5 rows\n",
            "\n"
          ]
        }
      ]
    },
    {
      "cell_type": "code",
      "source": [
        "patient_table.write.csv('Patient_Table.csv')"
      ],
      "metadata": {
        "id": "-gefg6nohDr8",
        "colab": {
          "base_uri": "https://localhost:8080/",
          "height": 311
        },
        "outputId": "e0864136-721e-4d77-bb1b-3d54ce4db8df"
      },
      "execution_count": 13,
      "outputs": [
        {
          "output_type": "error",
          "ename": "AnalysisException",
          "evalue": "ignored",
          "traceback": [
            "\u001b[0;31m---------------------------------------------------------------------------\u001b[0m",
            "\u001b[0;31mAnalysisException\u001b[0m                         Traceback (most recent call last)",
            "\u001b[0;32m<ipython-input-13-29e5a3d872cb>\u001b[0m in \u001b[0;36m<module>\u001b[0;34m\u001b[0m\n\u001b[0;32m----> 1\u001b[0;31m \u001b[0mpatient_table\u001b[0m\u001b[0;34m.\u001b[0m\u001b[0mwrite\u001b[0m\u001b[0;34m.\u001b[0m\u001b[0mcsv\u001b[0m\u001b[0;34m(\u001b[0m\u001b[0;34m'Patient_Table.csv'\u001b[0m\u001b[0;34m)\u001b[0m\u001b[0;34m\u001b[0m\u001b[0;34m\u001b[0m\u001b[0m\n\u001b[0m",
            "\u001b[0;32m/content/spark-3.2.2-bin-hadoop3.2/python/pyspark/sql/readwriter.py\u001b[0m in \u001b[0;36mcsv\u001b[0;34m(self, path, mode, compression, sep, quote, escape, header, nullValue, escapeQuotes, quoteAll, dateFormat, timestampFormat, ignoreLeadingWhiteSpace, ignoreTrailingWhiteSpace, charToEscapeQuoteEscaping, encoding, emptyValue, lineSep)\u001b[0m\n\u001b[1;32m    953\u001b[0m                        \u001b[0mcharToEscapeQuoteEscaping\u001b[0m\u001b[0;34m=\u001b[0m\u001b[0mcharToEscapeQuoteEscaping\u001b[0m\u001b[0;34m,\u001b[0m\u001b[0;34m\u001b[0m\u001b[0;34m\u001b[0m\u001b[0m\n\u001b[1;32m    954\u001b[0m                        encoding=encoding, emptyValue=emptyValue, lineSep=lineSep)\n\u001b[0;32m--> 955\u001b[0;31m         \u001b[0mself\u001b[0m\u001b[0;34m.\u001b[0m\u001b[0m_jwrite\u001b[0m\u001b[0;34m.\u001b[0m\u001b[0mcsv\u001b[0m\u001b[0;34m(\u001b[0m\u001b[0mpath\u001b[0m\u001b[0;34m)\u001b[0m\u001b[0;34m\u001b[0m\u001b[0;34m\u001b[0m\u001b[0m\n\u001b[0m\u001b[1;32m    956\u001b[0m \u001b[0;34m\u001b[0m\u001b[0m\n\u001b[1;32m    957\u001b[0m     \u001b[0;32mdef\u001b[0m \u001b[0morc\u001b[0m\u001b[0;34m(\u001b[0m\u001b[0mself\u001b[0m\u001b[0;34m,\u001b[0m \u001b[0mpath\u001b[0m\u001b[0;34m,\u001b[0m \u001b[0mmode\u001b[0m\u001b[0;34m=\u001b[0m\u001b[0;32mNone\u001b[0m\u001b[0;34m,\u001b[0m \u001b[0mpartitionBy\u001b[0m\u001b[0;34m=\u001b[0m\u001b[0;32mNone\u001b[0m\u001b[0;34m,\u001b[0m \u001b[0mcompression\u001b[0m\u001b[0;34m=\u001b[0m\u001b[0;32mNone\u001b[0m\u001b[0;34m)\u001b[0m\u001b[0;34m:\u001b[0m\u001b[0;34m\u001b[0m\u001b[0;34m\u001b[0m\u001b[0m\n",
            "\u001b[0;32m/content/spark-3.2.2-bin-hadoop3.2/python/lib/py4j-0.10.9.5-src.zip/py4j/java_gateway.py\u001b[0m in \u001b[0;36m__call__\u001b[0;34m(self, *args)\u001b[0m\n\u001b[1;32m   1320\u001b[0m         \u001b[0manswer\u001b[0m \u001b[0;34m=\u001b[0m \u001b[0mself\u001b[0m\u001b[0;34m.\u001b[0m\u001b[0mgateway_client\u001b[0m\u001b[0;34m.\u001b[0m\u001b[0msend_command\u001b[0m\u001b[0;34m(\u001b[0m\u001b[0mcommand\u001b[0m\u001b[0;34m)\u001b[0m\u001b[0;34m\u001b[0m\u001b[0;34m\u001b[0m\u001b[0m\n\u001b[1;32m   1321\u001b[0m         return_value = get_return_value(\n\u001b[0;32m-> 1322\u001b[0;31m             answer, self.gateway_client, self.target_id, self.name)\n\u001b[0m\u001b[1;32m   1323\u001b[0m \u001b[0;34m\u001b[0m\u001b[0m\n\u001b[1;32m   1324\u001b[0m         \u001b[0;32mfor\u001b[0m \u001b[0mtemp_arg\u001b[0m \u001b[0;32min\u001b[0m \u001b[0mtemp_args\u001b[0m\u001b[0;34m:\u001b[0m\u001b[0;34m\u001b[0m\u001b[0;34m\u001b[0m\u001b[0m\n",
            "\u001b[0;32m/content/spark-3.2.2-bin-hadoop3.2/python/pyspark/sql/utils.py\u001b[0m in \u001b[0;36mdeco\u001b[0;34m(*a, **kw)\u001b[0m\n\u001b[1;32m    115\u001b[0m                 \u001b[0;31m# Hide where the exception came from that shows a non-Pythonic\u001b[0m\u001b[0;34m\u001b[0m\u001b[0;34m\u001b[0m\u001b[0;34m\u001b[0m\u001b[0m\n\u001b[1;32m    116\u001b[0m                 \u001b[0;31m# JVM exception message.\u001b[0m\u001b[0;34m\u001b[0m\u001b[0;34m\u001b[0m\u001b[0;34m\u001b[0m\u001b[0m\n\u001b[0;32m--> 117\u001b[0;31m                 \u001b[0;32mraise\u001b[0m \u001b[0mconverted\u001b[0m \u001b[0;32mfrom\u001b[0m \u001b[0;32mNone\u001b[0m\u001b[0;34m\u001b[0m\u001b[0;34m\u001b[0m\u001b[0m\n\u001b[0m\u001b[1;32m    118\u001b[0m             \u001b[0;32melse\u001b[0m\u001b[0;34m:\u001b[0m\u001b[0;34m\u001b[0m\u001b[0;34m\u001b[0m\u001b[0m\n\u001b[1;32m    119\u001b[0m                 \u001b[0;32mraise\u001b[0m\u001b[0;34m\u001b[0m\u001b[0;34m\u001b[0m\u001b[0m\n",
            "\u001b[0;31mAnalysisException\u001b[0m: path file:/content/Patient_Table.csv already exists."
          ]
        }
      ]
    },
    {
      "cell_type": "code",
      "source": [
        "#read in the admission type csv file \n",
        "admission_type=spark.read.csv('admission_type.csv',  sep=\",\", header=True)\n",
        "admission_type.show()"
      ],
      "metadata": {
        "id": "oILOAh6hhNKt"
      },
      "execution_count": null,
      "outputs": []
    },
    {
      "cell_type": "code",
      "source": [
        "#read in the admission source csv file\n",
        "admission_source=spark.read.csv('admission_source.csv', sep=\",\", header=True)\n",
        "admission_source.show()"
      ],
      "metadata": {
        "id": "utXC4g77hfmx"
      },
      "execution_count": null,
      "outputs": []
    },
    {
      "cell_type": "code",
      "source": [
        "#read in the discharge csv file\n",
        "discharge_disposition=spark.read.csv('discharge_disposition.csv', sep=\",\", header=True)\n",
        "discharge_disposition.show()"
      ],
      "metadata": {
        "id": "MmeWUsf_hj-B"
      },
      "execution_count": null,
      "outputs": []
    },
    {
      "cell_type": "code",
      "source": [
        "#Create Medication table\n",
        "medication_id=np.arange(1,24)\n",
        "medication_type=nulls_dropped_diabetes_df.columns[21:44]\n",
        "medication=pd.DataFrame({\"medication_id\":medication_id, \"medication_type\":medication_type})\n",
        "medication_df=spark.createDataFrame(medication)\n",
        "medication_df.show(5)"
      ],
      "metadata": {
        "id": "AXYFUOvEhnUZ",
        "colab": {
          "base_uri": "https://localhost:8080/"
        },
        "outputId": "8298f773-3b23-4783-a29d-b26b4741eedb"
      },
      "execution_count": 14,
      "outputs": [
        {
          "output_type": "stream",
          "name": "stdout",
          "text": [
            "+-------------+---------------+\n",
            "|medication_id|medication_type|\n",
            "+-------------+---------------+\n",
            "|            1|      metformin|\n",
            "|            2|    repaglinide|\n",
            "|            3|    nateglinide|\n",
            "|            4| chlorpropamide|\n",
            "|            5|    glimepiride|\n",
            "+-------------+---------------+\n",
            "only showing top 5 rows\n",
            "\n"
          ]
        }
      ]
    },
    {
      "cell_type": "code",
      "source": [
        "#write medication to a cs file\n",
        "medication_df.write.csv('Medication Table.csv')"
      ],
      "metadata": {
        "id": "thceFl0siB6p"
      },
      "execution_count": null,
      "outputs": []
    },
    {
      "cell_type": "code",
      "source": [
        "#Read in ICD-9 Codes\n",
        "icd_codes_df = spark.read.csv('ICD-9_Code_1998.csv', sep=\",\", header=True, inferSchema=True)\n",
        "icd_codes_df.show(5)"
      ],
      "metadata": {
        "id": "O4_ct5ywiO1C",
        "colab": {
          "base_uri": "https://localhost:8080/"
        },
        "outputId": "d65b787e-8752-4213-8f7f-c9c078ef5512"
      },
      "execution_count": 16,
      "outputs": [
        {
          "output_type": "stream",
          "name": "stdout",
          "text": [
            "+-------------------------------------+\n",
            "|ICD TITLE & CODE CROSS REFERENCE FILE|\n",
            "+-------------------------------------+\n",
            "|                  Intestinal infec...|\n",
            "|                         Cholera -001|\n",
            "|                  Due to Vibrio ch...|\n",
            "|                  Due to Vibrio ch...|\n",
            "|                   Unspecified -001.9|\n",
            "+-------------------------------------+\n",
            "only showing top 5 rows\n",
            "\n"
          ]
        }
      ]
    },
    {
      "cell_type": "code",
      "source": [
        "#Finish transforming diagnosis table by spliting columns on hyphen and star and creating new columns\n",
        "diagnosis_code=icd_codes_df.withColumn(\"diagnosis_code\",(split('ICD TITLE & CODE CROSS REFERENCE FILE', \"-(?!.*-)|\\s-[^\\w\\n]\")[1])) \\\n",
        ".withColumn(\"diagnosis_type\",(split('ICD TITLE & CODE CROSS REFERENCE FILE', \"-(?!.*-)|\\s-[^\\w\\n]\")[0])).drop('ICD TITLE & CODE CROSS REFERENCE FILE')\n",
        "diagnosis_code.show(5)"
      ],
      "metadata": {
        "id": "8Bc6asesjVX9",
        "colab": {
          "base_uri": "https://localhost:8080/"
        },
        "outputId": "0adf108f-30cb-4b91-addb-cef9bf1f8147"
      },
      "execution_count": 17,
      "outputs": [
        {
          "output_type": "stream",
          "name": "stdout",
          "text": [
            "+--------------+--------------------+\n",
            "|diagnosis_code|      diagnosis_type|\n",
            "+--------------+--------------------+\n",
            "|           009| Intestinal infec...|\n",
            "|           001|            Cholera |\n",
            "|         001.0| Due to Vibrio ch...|\n",
            "|         001.1| Due to Vibrio ch...|\n",
            "|         001.9|        Unspecified |\n",
            "+--------------+--------------------+\n",
            "only showing top 5 rows\n",
            "\n"
          ]
        }
      ]
    },
    {
      "cell_type": "code",
      "source": [
        "#remove categories of codes from original dataset\n",
        "#split the columns based on hyphen\n",
        "diagnosis_code_split=diagnosis_code.withColumn(\"name\",(split('diagnosis_type', \"-(?!.*-)(?=.*[\\d])\")[1]))\n",
        "diagnosis_code_split.show(5)"
      ],
      "metadata": {
        "id": "i6Z6cVTrdUzg",
        "colab": {
          "base_uri": "https://localhost:8080/"
        },
        "outputId": "ee0265c0-32bf-4129-8a77-e9743875ef12"
      },
      "execution_count": 18,
      "outputs": [
        {
          "output_type": "stream",
          "name": "stdout",
          "text": [
            "+--------------+--------------------+----+\n",
            "|diagnosis_code|      diagnosis_type|name|\n",
            "+--------------+--------------------+----+\n",
            "|           009| Intestinal infec...| 001|\n",
            "|           001|            Cholera |null|\n",
            "|         001.0| Due to Vibrio ch...|null|\n",
            "|         001.1| Due to Vibrio ch...|null|\n",
            "|         001.9|        Unspecified |null|\n",
            "+--------------+--------------------+----+\n",
            "only showing top 5 rows\n",
            "\n"
          ]
        }
      ]
    },
    {
      "cell_type": "code",
      "source": [
        "#retain columns that have null value for name as they did not split.\n",
        "diagnosis_table=diagnosis_code_split.where(diagnosis_code_split.name.isNull()).drop('name')\n",
        "diagnosis_table.show(5)"
      ],
      "metadata": {
        "id": "tfNUl1P7beyc",
        "colab": {
          "base_uri": "https://localhost:8080/"
        },
        "outputId": "ad5ef429-5887-4e03-ad8b-a71e5c8816cb"
      },
      "execution_count": 19,
      "outputs": [
        {
          "output_type": "stream",
          "name": "stdout",
          "text": [
            "+--------------+--------------------+\n",
            "|diagnosis_code|      diagnosis_type|\n",
            "+--------------+--------------------+\n",
            "|           001|            Cholera |\n",
            "|         001.0| Due to Vibrio ch...|\n",
            "|         001.1| Due to Vibrio ch...|\n",
            "|         001.9|        Unspecified |\n",
            "|           002|Typhoid and parat...|\n",
            "+--------------+--------------------+\n",
            "only showing top 5 rows\n",
            "\n"
          ]
        }
      ]
    },
    {
      "cell_type": "code",
      "source": [
        "patient_medication_cols=nulls_dropped_diabetes_df.select('encounter_id', 'metformin', 'repaglinide', 'nateglinide', 'chlorpropamide', 'glimepiride', 'acetohexamide', 'glipizide', 'glyburide',\n",
        "          'tolbutamide', 'pioglitazone', 'rosiglitazone', 'acarbose', 'miglitol', 'troglitazone', 'tolazamide', 'examide', 'citoglipton', 'insulin',\n",
        "          'glyburide-metformin', 'glipizide-metformin', 'glimepiride-pioglitazone', 'metformin-rosiglitazone', 'metformin-pioglitazone')"
      ],
      "metadata": {
        "id": "ghtC89u-8COZ"
      },
      "execution_count": 20,
      "outputs": []
    },
    {
      "cell_type": "code",
      "source": [
        "#change No to null to make it easier to drop\n",
        "patient_medication_null=patient_medication_cols.replace('No', None)\n",
        "patient_medication_null.show(5)"
      ],
      "metadata": {
        "id": "1WQlwPwDSlz8",
        "colab": {
          "base_uri": "https://localhost:8080/"
        },
        "outputId": "a9255a05-3765-4b58-ee80-7ac64adcd699"
      },
      "execution_count": 21,
      "outputs": [
        {
          "output_type": "stream",
          "name": "stdout",
          "text": [
            "+------------+---------+-----------+-----------+--------------+-----------+-------------+---------+---------+-----------+------------+-------------+--------+--------+------------+----------+-------+-----------+-------+-------------------+-------------------+------------------------+-----------------------+----------------------+\n",
            "|encounter_id|metformin|repaglinide|nateglinide|chlorpropamide|glimepiride|acetohexamide|glipizide|glyburide|tolbutamide|pioglitazone|rosiglitazone|acarbose|miglitol|troglitazone|tolazamide|examide|citoglipton|insulin|glyburide-metformin|glipizide-metformin|glimepiride-pioglitazone|metformin-rosiglitazone|metformin-pioglitazone|\n",
            "+------------+---------+-----------+-----------+--------------+-----------+-------------+---------+---------+-----------+------------+-------------+--------+--------+------------+----------+-------+-----------+-------+-------------------+-------------------+------------------------+-----------------------+----------------------+\n",
            "|      149190|     null|       null|       null|          null|       null|         null|     null|     null|       null|        null|         null|    null|    null|        null|      null|   null|       null|     Up|               null|               null|                    null|                   null|                  null|\n",
            "|       64410|     null|       null|       null|          null|       null|         null|   Steady|     null|       null|        null|         null|    null|    null|        null|      null|   null|       null|   null|               null|               null|                    null|                   null|                  null|\n",
            "|      500364|     null|       null|       null|          null|       null|         null|     null|     null|       null|        null|         null|    null|    null|        null|      null|   null|       null|     Up|               null|               null|                    null|                   null|                  null|\n",
            "|       16680|     null|       null|       null|          null|       null|         null|   Steady|     null|       null|        null|         null|    null|    null|        null|      null|   null|       null| Steady|               null|               null|                    null|                   null|                  null|\n",
            "|       35754|     null|       null|       null|          null|       null|         null|     null|     null|       null|        null|         null|    null|    null|        null|      null|   null|       null| Steady|               null|               null|                    null|                   null|                  null|\n",
            "+------------+---------+-----------+-----------+--------------+-----------+-------------+---------+---------+-----------+------------+-------------+--------+--------+------------+----------+-------+-----------+-------+-------------------+-------------------+------------------------+-----------------------+----------------------+\n",
            "only showing top 5 rows\n",
            "\n"
          ]
        }
      ]
    },
    {
      "cell_type": "code",
      "source": [
        "#create Patient medication table view\n",
        "patient_medication_null.createOrReplaceTempView('patient_med')"
      ],
      "metadata": {
        "id": "Xw_pTcJE4Fog"
      },
      "execution_count": 22,
      "outputs": []
    },
    {
      "cell_type": "code",
      "source": [
        "#add all medication column values to one column\n",
        "patient_med=spark.sql(\"\"\"SELECT encounter_id,\n",
        "          STACK(23, 'metformin', metformin,'repaglinide', repaglinide, 'nateglinide',nateglinide , 'chlorpropamide',chlorpropamide, 'glimepiride', glimepiride, 'acetohexamide', acetohexamide, 'glipizide',glipizide, 'glyburide',glyburide, 'tolbutamide',tolbutamide, 'pioglitazone',pioglitazone, 'rosiglitazone',rosiglitazone, \n",
        "                'acarbose',acarbose, 'miglitol',miglitol, 'troglitazone',troglitazone, 'tolazamide',tolazamide, 'examide',examide, 'citoglipton',citoglipton,\n",
        "                'insulin',insulin, 'glyburide-metformin',`glyburide-metformin`, 'glipizide-metformin', `glipizide-metformin`, 'glimepiride-pioglitazone',`glimepiride-pioglitazone`, 'metformin-rosiglitazone',`metformin-rosiglitazone`,\n",
        "                'metformin-pioglitazone',`metformin-pioglitazone`)\n",
        "                as (type,change_in_dosage)FROM patient_med\"\"\")\n",
        "patient_med.show()"
      ],
      "metadata": {
        "id": "MjVwOgwO4FKo",
        "colab": {
          "base_uri": "https://localhost:8080/"
        },
        "outputId": "3bf6f3e9-70ca-4ec7-dc43-f1dfc03efc6f"
      },
      "execution_count": 23,
      "outputs": [
        {
          "output_type": "stream",
          "name": "stdout",
          "text": [
            "+------------+-------------------+----------------+\n",
            "|encounter_id|               type|change_in_dosage|\n",
            "+------------+-------------------+----------------+\n",
            "|      149190|          metformin|            null|\n",
            "|      149190|        repaglinide|            null|\n",
            "|      149190|        nateglinide|            null|\n",
            "|      149190|     chlorpropamide|            null|\n",
            "|      149190|        glimepiride|            null|\n",
            "|      149190|      acetohexamide|            null|\n",
            "|      149190|          glipizide|            null|\n",
            "|      149190|          glyburide|            null|\n",
            "|      149190|        tolbutamide|            null|\n",
            "|      149190|       pioglitazone|            null|\n",
            "|      149190|      rosiglitazone|            null|\n",
            "|      149190|           acarbose|            null|\n",
            "|      149190|           miglitol|            null|\n",
            "|      149190|       troglitazone|            null|\n",
            "|      149190|         tolazamide|            null|\n",
            "|      149190|            examide|            null|\n",
            "|      149190|        citoglipton|            null|\n",
            "|      149190|            insulin|              Up|\n",
            "|      149190|glyburide-metformin|            null|\n",
            "|      149190|glipizide-metformin|            null|\n",
            "+------------+-------------------+----------------+\n",
            "only showing top 20 rows\n",
            "\n"
          ]
        }
      ]
    },
    {
      "cell_type": "code",
      "source": [
        "#drop_null_values\n",
        "patient_medication_drop_nulls=patient_med.dropna()\n",
        "patient_medication_drop_nulls.show(5)"
      ],
      "metadata": {
        "id": "PSFjKdy-Ks7M",
        "colab": {
          "base_uri": "https://localhost:8080/"
        },
        "outputId": "647631f7-7451-4623-a36a-1d24f6516337"
      },
      "execution_count": 24,
      "outputs": [
        {
          "output_type": "stream",
          "name": "stdout",
          "text": [
            "+------------+---------+----------------+\n",
            "|encounter_id|     type|change_in_dosage|\n",
            "+------------+---------+----------------+\n",
            "|      149190|  insulin|              Up|\n",
            "|       64410|glipizide|          Steady|\n",
            "|      500364|  insulin|              Up|\n",
            "|       16680|glipizide|          Steady|\n",
            "|       16680|  insulin|          Steady|\n",
            "+------------+---------+----------------+\n",
            "only showing top 5 rows\n",
            "\n"
          ]
        }
      ]
    },
    {
      "cell_type": "code",
      "source": [
        "#change the medication_type to medication id\n",
        "patient_medication=patient_medication_drop_nulls.select('encounter_id','type', 'change_in_dosage').replace(['metformin', 'repaglinide', 'nateglinide', 'chlorpropamide', 'glimepiride', 'acetohexamide', 'glipizide', 'glyburide',\n",
        "          'tolbutamide', 'pioglitazone', 'rosiglitazone', 'acarbose', 'miglitol', 'troglitazone', 'tolazamide', 'examide', 'citoglipton', 'insulin',\n",
        "          'glyburide-metformin', 'glipizide-metformin', 'glimepiride-pioglitazone', 'metformin-rosiglitazone', 'metformin-pioglitazone'],list(map(str, range(1,24))), 'type')\n",
        "patient_medication_renamed=patient_medication.withColumnRenamed(\"type\",\"medication_id\")\n",
        "patient_medication_renamed.show(5)"
      ],
      "metadata": {
        "id": "L2yIdXQg251M",
        "colab": {
          "base_uri": "https://localhost:8080/"
        },
        "outputId": "82dce903-39de-4512-a0d9-b8cbe093b1b3"
      },
      "execution_count": 25,
      "outputs": [
        {
          "output_type": "stream",
          "name": "stdout",
          "text": [
            "+------------+-------------+----------------+\n",
            "|encounter_id|medication_id|change_in_dosage|\n",
            "+------------+-------------+----------------+\n",
            "|      149190|           18|              Up|\n",
            "|       64410|            7|          Steady|\n",
            "|      500364|           18|              Up|\n",
            "|       16680|            7|          Steady|\n",
            "|       16680|           18|          Steady|\n",
            "+------------+-------------+----------------+\n",
            "only showing top 5 rows\n",
            "\n"
          ]
        }
      ]
    },
    {
      "cell_type": "code",
      "source": [
        "#write patient_medication_renamed to patient_medication_table\n",
        "patient_medication_renamed.write.csv('Patient_medication_table')"
      ],
      "metadata": {
        "id": "qEqfzgvgxPMF",
        "colab": {
          "base_uri": "https://localhost:8080/",
          "height": 328
        },
        "outputId": "0c954a29-f85b-4e85-9fc0-9fe2de98665f"
      },
      "execution_count": 26,
      "outputs": [
        {
          "output_type": "error",
          "ename": "AnalysisException",
          "evalue": "ignored",
          "traceback": [
            "\u001b[0;31m---------------------------------------------------------------------------\u001b[0m",
            "\u001b[0;31mAnalysisException\u001b[0m                         Traceback (most recent call last)",
            "\u001b[0;32m<ipython-input-26-7f3af3673304>\u001b[0m in \u001b[0;36m<module>\u001b[0;34m\u001b[0m\n\u001b[1;32m      1\u001b[0m \u001b[0;31m#write patient_medication_renamed to patient_medication_table\u001b[0m\u001b[0;34m\u001b[0m\u001b[0;34m\u001b[0m\u001b[0;34m\u001b[0m\u001b[0m\n\u001b[0;32m----> 2\u001b[0;31m \u001b[0mpatient_medication_renamed\u001b[0m\u001b[0;34m.\u001b[0m\u001b[0mwrite\u001b[0m\u001b[0;34m.\u001b[0m\u001b[0mcsv\u001b[0m\u001b[0;34m(\u001b[0m\u001b[0;34m'Patient_medication_table'\u001b[0m\u001b[0;34m)\u001b[0m\u001b[0;34m\u001b[0m\u001b[0;34m\u001b[0m\u001b[0m\n\u001b[0m",
            "\u001b[0;32m/content/spark-3.2.2-bin-hadoop3.2/python/pyspark/sql/readwriter.py\u001b[0m in \u001b[0;36mcsv\u001b[0;34m(self, path, mode, compression, sep, quote, escape, header, nullValue, escapeQuotes, quoteAll, dateFormat, timestampFormat, ignoreLeadingWhiteSpace, ignoreTrailingWhiteSpace, charToEscapeQuoteEscaping, encoding, emptyValue, lineSep)\u001b[0m\n\u001b[1;32m    953\u001b[0m                        \u001b[0mcharToEscapeQuoteEscaping\u001b[0m\u001b[0;34m=\u001b[0m\u001b[0mcharToEscapeQuoteEscaping\u001b[0m\u001b[0;34m,\u001b[0m\u001b[0;34m\u001b[0m\u001b[0;34m\u001b[0m\u001b[0m\n\u001b[1;32m    954\u001b[0m                        encoding=encoding, emptyValue=emptyValue, lineSep=lineSep)\n\u001b[0;32m--> 955\u001b[0;31m         \u001b[0mself\u001b[0m\u001b[0;34m.\u001b[0m\u001b[0m_jwrite\u001b[0m\u001b[0;34m.\u001b[0m\u001b[0mcsv\u001b[0m\u001b[0;34m(\u001b[0m\u001b[0mpath\u001b[0m\u001b[0;34m)\u001b[0m\u001b[0;34m\u001b[0m\u001b[0;34m\u001b[0m\u001b[0m\n\u001b[0m\u001b[1;32m    956\u001b[0m \u001b[0;34m\u001b[0m\u001b[0m\n\u001b[1;32m    957\u001b[0m     \u001b[0;32mdef\u001b[0m \u001b[0morc\u001b[0m\u001b[0;34m(\u001b[0m\u001b[0mself\u001b[0m\u001b[0;34m,\u001b[0m \u001b[0mpath\u001b[0m\u001b[0;34m,\u001b[0m \u001b[0mmode\u001b[0m\u001b[0;34m=\u001b[0m\u001b[0;32mNone\u001b[0m\u001b[0;34m,\u001b[0m \u001b[0mpartitionBy\u001b[0m\u001b[0;34m=\u001b[0m\u001b[0;32mNone\u001b[0m\u001b[0;34m,\u001b[0m \u001b[0mcompression\u001b[0m\u001b[0;34m=\u001b[0m\u001b[0;32mNone\u001b[0m\u001b[0;34m)\u001b[0m\u001b[0;34m:\u001b[0m\u001b[0;34m\u001b[0m\u001b[0;34m\u001b[0m\u001b[0m\n",
            "\u001b[0;32m/content/spark-3.2.2-bin-hadoop3.2/python/lib/py4j-0.10.9.5-src.zip/py4j/java_gateway.py\u001b[0m in \u001b[0;36m__call__\u001b[0;34m(self, *args)\u001b[0m\n\u001b[1;32m   1320\u001b[0m         \u001b[0manswer\u001b[0m \u001b[0;34m=\u001b[0m \u001b[0mself\u001b[0m\u001b[0;34m.\u001b[0m\u001b[0mgateway_client\u001b[0m\u001b[0;34m.\u001b[0m\u001b[0msend_command\u001b[0m\u001b[0;34m(\u001b[0m\u001b[0mcommand\u001b[0m\u001b[0;34m)\u001b[0m\u001b[0;34m\u001b[0m\u001b[0;34m\u001b[0m\u001b[0m\n\u001b[1;32m   1321\u001b[0m         return_value = get_return_value(\n\u001b[0;32m-> 1322\u001b[0;31m             answer, self.gateway_client, self.target_id, self.name)\n\u001b[0m\u001b[1;32m   1323\u001b[0m \u001b[0;34m\u001b[0m\u001b[0m\n\u001b[1;32m   1324\u001b[0m         \u001b[0;32mfor\u001b[0m \u001b[0mtemp_arg\u001b[0m \u001b[0;32min\u001b[0m \u001b[0mtemp_args\u001b[0m\u001b[0;34m:\u001b[0m\u001b[0;34m\u001b[0m\u001b[0;34m\u001b[0m\u001b[0m\n",
            "\u001b[0;32m/content/spark-3.2.2-bin-hadoop3.2/python/pyspark/sql/utils.py\u001b[0m in \u001b[0;36mdeco\u001b[0;34m(*a, **kw)\u001b[0m\n\u001b[1;32m    115\u001b[0m                 \u001b[0;31m# Hide where the exception came from that shows a non-Pythonic\u001b[0m\u001b[0;34m\u001b[0m\u001b[0;34m\u001b[0m\u001b[0;34m\u001b[0m\u001b[0m\n\u001b[1;32m    116\u001b[0m                 \u001b[0;31m# JVM exception message.\u001b[0m\u001b[0;34m\u001b[0m\u001b[0;34m\u001b[0m\u001b[0;34m\u001b[0m\u001b[0m\n\u001b[0;32m--> 117\u001b[0;31m                 \u001b[0;32mraise\u001b[0m \u001b[0mconverted\u001b[0m \u001b[0;32mfrom\u001b[0m \u001b[0;32mNone\u001b[0m\u001b[0;34m\u001b[0m\u001b[0;34m\u001b[0m\u001b[0m\n\u001b[0m\u001b[1;32m    118\u001b[0m             \u001b[0;32melse\u001b[0m\u001b[0;34m:\u001b[0m\u001b[0;34m\u001b[0m\u001b[0;34m\u001b[0m\u001b[0m\n\u001b[1;32m    119\u001b[0m                 \u001b[0;32mraise\u001b[0m\u001b[0;34m\u001b[0m\u001b[0;34m\u001b[0m\u001b[0m\n",
            "\u001b[0;31mAnalysisException\u001b[0m: path file:/content/Patient_medication_table already exists."
          ]
        }
      ]
    },
    {
      "cell_type": "code",
      "source": [
        "#create the encounter table\n",
        "encounter_table=nulls_dropped_diabetes_df.select('encounter_id', 'patient_nbr', 'age', 'admission_type_id',\n",
        "       'discharge_disposition_id', 'admission_source_id',\n",
        "       'time_in_hospital', 'num_lab_procedures', 'num_procedures',\n",
        "       'num_medications', 'number_outpatient', 'number_emergency',\n",
        "       'number_inpatient', 'diag_1', 'diag_2', 'diag_3',\n",
        "       'number_diagnoses', 'max_glu_serum', 'A1Cresult', 'change',\n",
        "       'diabetesMed', 'readmitted')\n",
        "encounter_table.show(5)"
      ],
      "metadata": {
        "id": "SnS7W2RSNUia",
        "colab": {
          "base_uri": "https://localhost:8080/"
        },
        "outputId": "cb0090bf-b3c7-40e2-da7c-3cc6a0c86cff"
      },
      "execution_count": 27,
      "outputs": [
        {
          "output_type": "stream",
          "name": "stdout",
          "text": [
            "+------------+-----------+-------+-----------------+------------------------+-------------------+----------------+------------------+--------------+---------------+-----------------+----------------+----------------+------+------+------+----------------+-------------+---------+------+-----------+----------+\n",
            "|encounter_id|patient_nbr|    age|admission_type_id|discharge_disposition_id|admission_source_id|time_in_hospital|num_lab_procedures|num_procedures|num_medications|number_outpatient|number_emergency|number_inpatient|diag_1|diag_2|diag_3|number_diagnoses|max_glu_serum|A1Cresult|change|diabetesMed|readmitted|\n",
            "+------------+-----------+-------+-----------------+------------------------+-------------------+----------------+------------------+--------------+---------------+-----------------+----------------+----------------+------+------+------+----------------+-------------+---------+------+-----------+----------+\n",
            "|      149190|   55629189|[10-20)|                1|                       1|                  7|               3|                59|             0|             18|                0|               0|               0|   276|250.01|   255|               9|         None|     None|    Ch|        Yes|       >30|\n",
            "|       64410|   86047875|[20-30)|                1|                       1|                  7|               2|                11|             5|             13|                2|               0|               1|   648|   250|   V27|               6|         None|     None|    No|        Yes|        NO|\n",
            "|      500364|   82442376|[30-40)|                1|                       1|                  7|               2|                44|             1|             16|                0|               0|               0|     8|250.43|   403|               7|         None|     None|    Ch|        Yes|        NO|\n",
            "|       16680|   42519267|[40-50)|                1|                       1|                  7|               1|                51|             0|              8|                0|               0|               0|   197|   157|   250|               5|         None|     None|    Ch|        Yes|        NO|\n",
            "|       35754|   82637451|[50-60)|                2|                       1|                  2|               3|                31|             6|             16|                0|               0|               0|   414|   411|   250|               9|         None|     None|    No|        Yes|       >30|\n",
            "+------------+-----------+-------+-----------------+------------------------+-------------------+----------------+------------------+--------------+---------------+-----------------+----------------+----------------+------+------+------+----------------+-------------+---------+------+-----------+----------+\n",
            "only showing top 5 rows\n",
            "\n"
          ]
        }
      ]
    },
    {
      "cell_type": "code",
      "source": [
        "#write encounter_table to csv\n",
        "encounter_table.write.csv('Encounter Table')\n"
      ],
      "metadata": {
        "id": "FrkY2j67OacP"
      },
      "execution_count": null,
      "outputs": []
    },
    {
      "cell_type": "markdown",
      "source": [
        "# **PySpark SQL Query**\n"
      ],
      "metadata": {
        "id": "HVLp4Efokyj1"
      }
    },
    {
      "cell_type": "code",
      "source": [
        "#Create Temporary Views\n",
        "patient_medication_renamed.createOrReplaceTempView('pm')\n",
        "diagnosis_table.createOrReplaceTempView('diagnosis_table')\n",
        "medication_df.createOrReplaceTempView('medication_table')\n",
        "patient_table.createOrReplaceTempView('patients')\n",
        "encounter_table.createOrReplaceTempView('encounter_table')"
      ],
      "metadata": {
        "id": "qKsRLnjjk2_W"
      },
      "execution_count": 29,
      "outputs": []
    },
    {
      "cell_type": "markdown",
      "source": [
        "Question #1:  Which medication type had the least percentage of patients that were readmitted in less than 30 days?\n",
        "*   Answer:  tolbutamide\n",
        "\n"
      ],
      "metadata": {
        "id": "OGQfTCX2mdDO"
      }
    },
    {
      "cell_type": "code",
      "source": [
        "#Build query for question # 1\n",
        "question1= \"\"\"(SELECT m.medication_type, (Round((SUM(CASE WHEN e.readmitted = '<30' THEN 1 ELSE 0 END)/count(e.patient_nbr))*100,2)) as percentage_of_readmitted_patients\n",
        "FROM encounter_table AS e\n",
        "JOIN pm\n",
        "ON (pm.encounter_id = e.encounter_id)\n",
        "JOIN medication_table AS m\n",
        "ON (m.medication_id = pm.medication_id)\n",
        "GROUP by m.medication_type\n",
        "Order by percentage_of_readmitted_patients)\"\"\"\n",
        "\n",
        "#Start Timer to time how long it takes to run the query for question # 1\n",
        "start_time = time.time()\n",
        "q1_df=spark.sql(question1)\n",
        "q1_df.show()\n",
        "#End Timer\n",
        "print(\"--- %s seconds ---\" % (time.time() - start_time))\n"
      ],
      "metadata": {
        "id": "PgFL4s9DnU9C",
        "colab": {
          "base_uri": "https://localhost:8080/"
        },
        "outputId": "5f62102b-1531-4182-bde1-cc873427ec0d"
      },
      "execution_count": 30,
      "outputs": [
        {
          "output_type": "stream",
          "name": "stdout",
          "text": [
            "+--------------------+---------------------------------+\n",
            "|     medication_type|percentage_of_readmitted_patients|\n",
            "+--------------------+---------------------------------+\n",
            "|glimepiride-piogl...|                              0.0|\n",
            "|       acetohexamide|                              0.0|\n",
            "|metformin-pioglit...|                              0.0|\n",
            "|        troglitazone|                              0.0|\n",
            "|         tolbutamide|                             4.55|\n",
            "|      chlorpropamide|                             6.02|\n",
            "| glipizide-metformin|                             7.69|\n",
            "|          tolazamide|                             8.11|\n",
            "|            acarbose|                             9.03|\n",
            "|           metformin|                             9.79|\n",
            "|         glimepiride|                            10.23|\n",
            "|       rosiglitazone|                            10.48|\n",
            "|        pioglitazone|                            10.59|\n",
            "| glyburide-metformin|                            10.61|\n",
            "|           glyburide|                            10.74|\n",
            "|            miglitol|                            10.81|\n",
            "|           glipizide|                            11.58|\n",
            "|         nateglinide|                            11.58|\n",
            "|             insulin|                             12.3|\n",
            "|         repaglinide|                            13.39|\n",
            "+--------------------+---------------------------------+\n",
            "\n",
            "--- 6.261888027191162 seconds ---\n"
          ]
        }
      ]
    },
    {
      "cell_type": "code",
      "source": [
        "#change spark dataframe to Pandas for visualization\n",
        "fig=plt.figure(figsize=(15,9))\n",
        "question1_df=q1_df.toPandas()\n",
        "sns.set_style(\"darkgrid\")\n",
        "sns.set(font_scale=1.25)\n",
        "sns.barplot(data=question1_df, y=\"medication_type\",x=\"percentage_of_readmitted_patients\"\n",
        "            ).set(title='Percentage of Readmitted Patients based on Medication Type')\n"
      ],
      "metadata": {
        "id": "31Ic4u4JcCei",
        "colab": {
          "base_uri": "https://localhost:8080/",
          "height": 599
        },
        "outputId": "0d19de3c-85ed-4ee8-9d26-74ba7f4cd9f6"
      },
      "execution_count": 31,
      "outputs": [
        {
          "output_type": "execute_result",
          "data": {
            "text/plain": [
              "[Text(0.5, 1.0, 'Percentage of Readmitted Patients based on Medication Type')]"
            ]
          },
          "metadata": {},
          "execution_count": 31
        },
        {
          "output_type": "display_data",
          "data": {
            "text/plain": [
              "<Figure size 1080x648 with 1 Axes>"
            ],
            "image/png": "[encoded data removed]"
          },
          "metadata": {
            "needs_background": "light"
          }
        }
      ]
    },
    {
      "cell_type": "markdown",
      "source": [
        "Question #2:  Which Age group on diabetes medication spent the least amount of time in the hospital?\n",
        "\n",
        "\n",
        "*   Answer:  0-10 age group\n",
        "\n",
        "\n"
      ],
      "metadata": {
        "id": "46iw_s05mdNR"
      }
    },
    {
      "cell_type": "code",
      "source": [
        "#Build query for question # 2\n",
        "question2=\"\"\"(SELECT p.age, ROUND((AVG(e.time_in_hospital)),2) as avg_time_in_hospital\n",
        "FROM encounter_table AS e\n",
        "JOIN patients AS p\n",
        "ON (p.patient_nbr = e.patient_nbr)\n",
        "WHERE e.diabetesMed == 'Yes'\n",
        "GROUP BY p.age\n",
        "ORDER BY ROUND((AVG(e.time_in_hospital)),2) ASC )\"\"\"\n",
        "\n",
        "#Start Timer to time how long it takes to run the query for question # 1\n",
        "start_time = time.time()\n",
        "q2_df=spark.sql(question2)\n",
        "q2_df.show()\n",
        "#End Timer\n",
        "print(\"--- %s seconds ---\" % (time.time() - start_time))\n"
      ],
      "metadata": {
        "id": "9c_HuwmHnWk3",
        "colab": {
          "base_uri": "https://localhost:8080/"
        },
        "outputId": "fd92f17a-42f9-4a1a-dd3f-5ed404ade04d"
      },
      "execution_count": 32,
      "outputs": [
        {
          "output_type": "stream",
          "name": "stdout",
          "text": [
            "+--------+--------------------+\n",
            "|     age|avg_time_in_hospital|\n",
            "+--------+--------------------+\n",
            "|  [0-10)|                2.96|\n",
            "| [10-20)|                3.71|\n",
            "| [20-30)|                3.75|\n",
            "| [30-40)|                3.98|\n",
            "| [40-50)|                4.19|\n",
            "| [50-60)|                4.24|\n",
            "| [60-70)|                 4.5|\n",
            "| [70-80)|                4.71|\n",
            "| [80-90)|                4.93|\n",
            "|[90-100)|                4.97|\n",
            "+--------+--------------------+\n",
            "\n",
            "--- 4.208569765090942 seconds ---\n"
          ]
        }
      ]
    },
    {
      "cell_type": "code",
      "source": [
        "fig2=plt.figure(figsize=(10,7))\n",
        "question2_df=q2_df.toPandas()\n",
        "sns.set_style(\"darkgrid\")\n",
        "sns.set(font_scale=1.15)\n",
        "sns.barplot(data=question2_df, x='age', y='avg_time_in_hospital').set(title=\"Average time in hospital based on age\")"
      ],
      "metadata": {
        "id": "A_-oJYe1ftQw",
        "colab": {
          "base_uri": "https://localhost:8080/",
          "height": 486
        },
        "outputId": "7523698c-c6c4-4ee6-c350-aa3449ce6d3a"
      },
      "execution_count": 33,
      "outputs": [
        {
          "output_type": "execute_result",
          "data": {
            "text/plain": [
              "[Text(0.5, 1.0, 'Average time in hospital based on age')]"
            ]
          },
          "metadata": {},
          "execution_count": 33
        },
        {
          "output_type": "display_data",
          "data": {
            "text/plain": [
              "<Figure size 720x504 with 1 Axes>"
            ],
            "image/png": "[encoded data removed]"
          },
          "metadata": {}
        }
      ]
    },
    {
      "cell_type": "markdown",
      "source": [
        "Question #3: Which Diabetes diagnosis group have the highest number of diagnosis based on gender\n",
        "\n",
        "\n",
        "*   Anwser:  Diabetes meliltus diagnosis have the highest number of Diabetes diagnosis for both male and female.\n",
        "\n"
      ],
      "metadata": {
        "id": "YubJ6xUjmdVE"
      }
    },
    {
      "cell_type": "code",
      "source": [
        "#Build query for question # 3\n",
        "question3 = \"\"\"(SELECT p.gender, d.diagnosis_type, COUNT(d.diagnosis_type) as count,\n",
        "RANK ()OVER(ORDER BY COUNT(d.diagnosis_type) DESC) as Rank\n",
        "FROM encounter_table AS e\n",
        "JOIN diagnosis_table AS d\n",
        "ON (e.diag_1 = d.diagnosis_code OR e.diag_2 = d.diagnosis_code OR e.diag_3 = d.diagnosis_code)\n",
        "JOIN patients AS p\n",
        "ON (e.patient_nbr = p.patient_nbr)\n",
        "GROUP BY p.gender, d.diagnosis_type\n",
        "limit 10)\"\"\"\n",
        "\n",
        "#Start Timer to time how long it takes to run the query for question # 3\n",
        "start_time = time.time()\n",
        "\n",
        "#Run query\n",
        "q3_df=spark.sql(question3)\n",
        "q3_df.show()\n",
        "#Stop the timer and sub\n",
        "print(\"--- %s seconds ---\" % (time.time() - start_time))"
      ],
      "metadata": {
        "id": "sXNnGJtznXmP",
        "colab": {
          "base_uri": "https://localhost:8080/"
        },
        "outputId": "e64b4647-2db1-4941-86b4-ae976565c74c"
      },
      "execution_count": 34,
      "outputs": [
        {
          "output_type": "stream",
          "name": "stdout",
          "text": [
            "+------+--------------------+-----+----+\n",
            "|gender|      diagnosis_type|count|Rank|\n",
            "+------+--------------------+-----+----+\n",
            "|Female|      Heart failure | 9363|   1|\n",
            "|Female|  Diabetes mellitus | 9227|   2|\n",
            "|  Male|      Heart failure | 7752|   3|\n",
            "|  Male|  Diabetes mellitus | 7584|   4|\n",
            "|Female|Disorders of flui...| 7301|   5|\n",
            "|  Male|Other forms of ch...| 6993|   6|\n",
            "|Female|Essential hyperte...| 6845|   7|\n",
            "|Female|Cardiac dysrhythm...| 5379|   8|\n",
            "|  Male|Cardiac dysrhythm...| 5374|   9|\n",
            "|  Male|Disorders of flui...| 5302|  10|\n",
            "+------+--------------------+-----+----+\n",
            "\n",
            "--- 11.749018907546997 seconds ---\n"
          ]
        }
      ]
    },
    {
      "cell_type": "code",
      "source": [
        "fig3=plt.figure(figsize=(11,7))\n",
        "question3_df=q3_df.toPandas()\n",
        "question3_df['diagnosis_type']=question3_df['diagnosis_type'].replace({'Disorders of fluid, electrolyte, and acid-base balance ': 'Acid-Base & Electrolyte Disorders',\n",
        "                                       'Other forms of chronic ischemic heart disease ':'Chronic Ischemic Heart Disease'})\n",
        "sns.set_style(\"darkgrid\")\n",
        "ques3=sns.barplot(data=question3_df, y='diagnosis_type',x='count', hue='gender').set(title=\"Diagnosis types based on gender\", ylabel=None)\n"
      ],
      "metadata": {
        "id": "4zKe-wAYg4x1",
        "colab": {
          "base_uri": "https://localhost:8080/",
          "height": 469
        },
        "outputId": "65f451b2-d451-445d-d07f-7ebd3fe94dee"
      },
      "execution_count": 35,
      "outputs": [
        {
          "output_type": "display_data",
          "data": {
            "text/plain": [
              "<Figure size 792x504 with 1 Axes>"
            ],
            "image/png": "[encoded data removed]"
          },
          "metadata": {}
        }
      ]
    },
    {
      "cell_type": "markdown",
      "source": [
        "Question #4: Which age group and race had the highest number of diagnosis and readmitted within 30 days?\n",
        "\n",
        "\n",
        "*   Answer:  70-80 Caucasian had the highest number of diagnosis and were readmitted within 30 days\n",
        "\n"
      ],
      "metadata": {
        "id": "DJBKT8e6mde0"
      }
    },
    {
      "cell_type": "code",
      "source": [
        "#Build query for question # 4\n",
        "question4 = \"\"\"(SELECT p.age, p.race, COUNT(d.diagnosis_type) as count_of_diagnosis,\n",
        "RANK() OVER(ORDER BY COUNT(d.diagnosis_type) DESC)as Rank \n",
        "FROM encounter_table AS e\n",
        "JOIN diagnosis_table AS d\n",
        "ON (e.diag_1 = d.diagnosis_code OR e.diag_2 = d.diagnosis_code OR e.diag_3 = d.diagnosis_code)\n",
        "JOIN patients AS p\n",
        "ON (e.patient_nbr = p.patient_nbr)\n",
        "WHERE e.readmitted = '<30'\n",
        "GROUP BY p.age, p.race\n",
        "limit 20)\"\"\"\n",
        "#Start Timer to time how long it takes to run the query for question # 3\n",
        "start_time = time.time()\n",
        "q4_df=spark.sql(question4)\n",
        "q4_df.show()\n",
        "#stop timer\n",
        "print(\"--- %s seconds ---\" % (time.time() - start_time))"
      ],
      "metadata": {
        "id": "jvL8nlXllgpW",
        "colab": {
          "base_uri": "https://localhost:8080/"
        },
        "outputId": "16eee95b-5440-4e79-a95e-003025d4f0b6"
      },
      "execution_count": 36,
      "outputs": [
        {
          "output_type": "stream",
          "name": "stdout",
          "text": [
            "+--------+---------------+------------------+----+\n",
            "|     age|           race|count_of_diagnosis|Rank|\n",
            "+--------+---------------+------------------+----+\n",
            "| [70-80)|      Caucasian|              6309|   1|\n",
            "| [60-70)|      Caucasian|              4685|   2|\n",
            "| [80-90)|      Caucasian|              4442|   3|\n",
            "| [50-60)|      Caucasian|              2934|   4|\n",
            "| [40-50)|      Caucasian|              1577|   5|\n",
            "| [60-70)|AfricanAmerican|              1240|   6|\n",
            "| [70-80)|AfricanAmerican|              1158|   7|\n",
            "| [50-60)|AfricanAmerican|               982|   8|\n",
            "| [40-50)|AfricanAmerican|               848|   9|\n",
            "|[90-100)|      Caucasian|               569|  10|\n",
            "| [30-40)|      Caucasian|               549|  11|\n",
            "| [80-90)|AfricanAmerican|               514|  12|\n",
            "| [30-40)|AfricanAmerican|               310|  13|\n",
            "| [20-30)|      Caucasian|               272|  14|\n",
            "| [20-30)|AfricanAmerican|               159|  15|\n",
            "| [60-70)|       Hispanic|               140|  16|\n",
            "| [70-80)|       Hispanic|               124|  17|\n",
            "| [40-50)|       Hispanic|               112|  18|\n",
            "| [60-70)|          Other|               107|  19|\n",
            "| [70-80)|          Other|                94|  20|\n",
            "+--------+---------------+------------------+----+\n",
            "\n",
            "--- 9.061889886856079 seconds ---\n"
          ]
        }
      ]
    },
    {
      "cell_type": "code",
      "source": [
        "fig3=plt.figure(figsize=(8,5))\n",
        "question4_df=q4_df.toPandas()\n",
        "\n",
        "sns.set_style(\"darkgrid\")\n",
        "q4_fig=sns.scatterplot(data=question4_df, x = \"age\", y = \"race\", size = \"count_of_diagnosis\", \n",
        "                       hue=\"count_of_diagnosis\",palette=\"flare_r\", sizes=(100, 1000))\n",
        "q4_fig"
      ],
      "metadata": {
        "id": "5YMF-fAznoQC",
        "colab": {
          "base_uri": "https://localhost:8080/",
          "height": 360
        },
        "outputId": "dc48bbf1-0057-4ea4-bdaf-b8aee44fc429"
      },
      "execution_count": 37,
      "outputs": [
        {
          "output_type": "execute_result",
          "data": {
            "text/plain": [
              "<matplotlib.axes._subplots.AxesSubplot at 0x7f1d3fb4a2d0>"
            ]
          },
          "metadata": {},
          "execution_count": 37
        },
        {
          "output_type": "display_data",
          "data": {
            "text/plain": [
              "<Figure size 576x360 with 1 Axes>"
            ],
            "image/png": "[encoded data removed]"
          },
          "metadata": {}
        }
      ]
    },
    {
      "cell_type": "code",
      "source": [
        "question4_df.count()"
      ],
      "metadata": {
        "id": "bIPmjWIe6T6s",
        "colab": {
          "base_uri": "https://localhost:8080/"
        },
        "outputId": "7de72763-8c87-4c86-fecb-f7e1cf18446d"
      },
      "execution_count": 38,
      "outputs": [
        {
          "output_type": "execute_result",
          "data": {
            "text/plain": [
              "age                   20\n",
              "race                  20\n",
              "count_of_diagnosis    20\n",
              "Rank                  20\n",
              "dtype: int64"
            ]
          },
          "metadata": {},
          "execution_count": 38
        }
      ]
    },
    {
      "cell_type": "markdown",
      "source": [
        "# **Parquet Demonstration**"
      ],
      "metadata": {
        "id": "7WVcDjjasBDX"
      }
    },
    {
      "cell_type": "code",
      "source": [
        "#Write data of each data frame in parquet format\n",
        "diagnosis_table.write.parquet('parquet_diagnosis_table', mode='overwrite')\n",
        "patient_medication.write.parquet('parquet_pm', mode='overwrite')\n",
        "medication_df.write.parquet('parquet_medication_table', mode='overwrite')\n",
        "patient_table.write.parquet('parquet_patients', mode='overwrite')\n",
        "encounter_table.write.parquet('parquet_encounter_table', mode='overwrite')"
      ],
      "metadata": {
        "id": "Ilq5DfJWpPtN"
      },
      "execution_count": 39,
      "outputs": []
    },
    {
      "cell_type": "code",
      "source": [
        "#Read in the newly parquet formated data to new dataframes\n",
        "p_diagnosis_df=spark.read.parquet('parquet_diagnosis_table')\n",
        "p_patient_medication_df=spark.read.parquet('parquet_pm')\n",
        "p_medication_df=spark.read.parquet('parquet_medication_table')\n",
        "p_patients_df=spark.read.parquet('parquet_patients')\n",
        "p_encounter_df=spark.read.parquet('parquet_encounter_table')"
      ],
      "metadata": {
        "id": "KDoYbzU4sWq3"
      },
      "execution_count": 40,
      "outputs": []
    },
    {
      "cell_type": "code",
      "source": [
        "#Convert each parquet formatted data frame into a new view\n",
        "p_diagnosis_df.createOrReplaceTempView('p_diagnosis')\n",
        "p_patient_medication_df.createOrReplaceTempView('p_patient_medications')\n",
        "p_medication_df.createOrReplaceTempView('p_medications')\n",
        "p_patients_df.createOrReplaceTempView('p_patients')\n",
        "p_encounter_df.createOrReplaceTempView('p_encounters')"
      ],
      "metadata": {
        "id": "goNBB86Mtm08"
      },
      "execution_count": 41,
      "outputs": []
    },
    {
      "cell_type": "code",
      "source": [
        "#Build updated queries with parquet temp views\n",
        "question1 = \"\"\"(SELECT m.medication_type, (Round((SUM(CASE WHEN e.readmitted = '<30' THEN 1 ELSE 0 END)/count(e.patient_nbr))*100,2)) as percentage_of_readmitted_patients\n",
        "FROM p_encounters AS e\n",
        "JOIN p_patient_medications AS pm\n",
        "ON (pm.encounter_id = e.encounter_id)\n",
        "JOIN p_medications AS m\n",
        "ON (m.medication_id = pm.type)\n",
        "GROUP by m.medication_type\n",
        "Order by percentage_of_readmitted_patients)\"\"\"\n",
        "\n",
        "question2 = \"\"\"(SELECT p.age, ROUND((AVG(e.time_in_hospital)),2)\n",
        "FROM p_encounters AS e\n",
        "JOIN p_patients AS p\n",
        "ON (p.patient_nbr = e.patient_nbr)\n",
        "WHERE e.diabetesMed == 'Yes'\n",
        "GROUP BY p.age\n",
        "ORDER BY ROUND((AVG(e.time_in_hospital)),2) ASC)\"\"\"\n",
        "\n",
        "question3 = \"\"\"(SELECT p.gender, d.diagnosis_type, COUNT(d.diagnosis_type),\n",
        "RANK ()OVER(ORDER BY COUNT(d.diagnosis_type) DESC) \n",
        "FROM p_encounters AS e\n",
        "JOIN p_diagnosis AS d\n",
        "ON (e.diag_1 = d.diagnosis_code OR e.diag_2 = d.diagnosis_code OR e.diag_3 = d.diagnosis_code)\n",
        "JOIN p_patients AS p\n",
        "ON (e.patient_nbr = p.patient_nbr)\n",
        "GROUP BY p.gender, d.diagnosis_type)\"\"\"\n",
        "\n",
        "question4 = \"\"\"(SELECT p.age, p.race, COUNT(d.diagnosis_type),\n",
        "RANK() OVER(ORDER BY COUNT(d.diagnosis_type) DESC) \n",
        "FROM p_encounters AS e\n",
        "JOIN p_diagnosis AS d\n",
        "ON (e.diag_1 = d.diagnosis_code OR e.diag_2 = d.diagnosis_code OR e.diag_3 = d.diagnosis_code)\n",
        "JOIN p_patients AS p\n",
        "ON (e.patient_nbr = p.patient_nbr)\n",
        "WHERE e.readmitted = '<30'\n",
        "GROUP BY p.age, p.race)\"\"\""
      ],
      "metadata": {
        "id": "0riuZ6pdvGHw"
      },
      "execution_count": 42,
      "outputs": []
    },
    {
      "cell_type": "code",
      "source": [
        "#Run queries on parquet views\n",
        "#Start Timer to time how long it takes to run the query for question 1\n",
        "start_time = time.time()\n",
        "\n",
        "#Run query for question # 1\n",
        "spark.sql(question1).show()\n",
        "\n",
        "#End Timer\n",
        "print(\"--- %s seconds ---\" % (time.time() - start_time))"
      ],
      "metadata": {
        "id": "c5bdUUpAwI-L",
        "colab": {
          "base_uri": "https://localhost:8080/"
        },
        "outputId": "587ec309-1a29-402b-c9e9-6fe4dd3c90ea"
      },
      "execution_count": 43,
      "outputs": [
        {
          "output_type": "stream",
          "name": "stdout",
          "text": [
            "+--------------------+---------------------------------+\n",
            "|     medication_type|percentage_of_readmitted_patients|\n",
            "+--------------------+---------------------------------+\n",
            "|metformin-pioglit...|                              0.0|\n",
            "|glimepiride-piogl...|                              0.0|\n",
            "|        troglitazone|                              0.0|\n",
            "|       acetohexamide|                              0.0|\n",
            "|         tolbutamide|                             4.55|\n",
            "|      chlorpropamide|                             6.02|\n",
            "| glipizide-metformin|                             7.69|\n",
            "|          tolazamide|                             8.11|\n",
            "|            acarbose|                             9.03|\n",
            "|           metformin|                             9.79|\n",
            "|         glimepiride|                            10.23|\n",
            "|       rosiglitazone|                            10.48|\n",
            "|        pioglitazone|                            10.59|\n",
            "| glyburide-metformin|                            10.61|\n",
            "|           glyburide|                            10.74|\n",
            "|            miglitol|                            10.81|\n",
            "|           glipizide|                            11.58|\n",
            "|         nateglinide|                            11.58|\n",
            "|             insulin|                             12.3|\n",
            "|         repaglinide|                            13.39|\n",
            "+--------------------+---------------------------------+\n",
            "\n",
            "--- 1.2832067012786865 seconds ---\n"
          ]
        }
      ]
    },
    {
      "cell_type": "code",
      "source": [
        "#Reset and Start Timer to time how long it takes to run the query for question 2\n",
        "start_time = time.time()\n",
        "\n",
        "#Run query for question # 2\n",
        "spark.sql(question2).show()\n",
        "\n",
        "#End Timer\n",
        "print(\"--- %s seconds ---\" % (time.time() - start_time))"
      ],
      "metadata": {
        "id": "4Yyl27xMwc6t",
        "colab": {
          "base_uri": "https://localhost:8080/"
        },
        "outputId": "1642832a-1f99-4e27-cf5f-d369c15d7a80"
      },
      "execution_count": 44,
      "outputs": [
        {
          "output_type": "stream",
          "name": "stdout",
          "text": [
            "+--------+-------------------------------+\n",
            "|     age|round(avg(time_in_hospital), 2)|\n",
            "+--------+-------------------------------+\n",
            "|  [0-10)|                           2.96|\n",
            "| [10-20)|                           3.71|\n",
            "| [20-30)|                           3.75|\n",
            "| [30-40)|                           3.98|\n",
            "| [40-50)|                           4.19|\n",
            "| [50-60)|                           4.24|\n",
            "| [60-70)|                            4.5|\n",
            "| [70-80)|                           4.71|\n",
            "| [80-90)|                           4.93|\n",
            "|[90-100)|                           4.97|\n",
            "+--------+-------------------------------+\n",
            "\n",
            "--- 0.8145730495452881 seconds ---\n"
          ]
        }
      ]
    },
    {
      "cell_type": "code",
      "source": [
        "#Reset and Start Timer to time how long it takes to run the query for question 3\n",
        "start_time = time.time()\n",
        "\n",
        "#Run query for question # 3\n",
        "spark.sql(question3).show()\n",
        "\n",
        "#End Timer\n",
        "print(\"--- %s seconds ---\" % (time.time() - start_time))"
      ],
      "metadata": {
        "id": "9CTgd6zlwdGY",
        "colab": {
          "base_uri": "https://localhost:8080/"
        },
        "outputId": "2e1c5571-1d97-4caf-97e5-ef1f00acdd52"
      },
      "execution_count": 45,
      "outputs": [
        {
          "output_type": "stream",
          "name": "stdout",
          "text": [
            "+------+--------------------+---------------------+-------------------------------------------------------------------------------------------------------------+\n",
            "|gender|      diagnosis_type|count(diagnosis_type)|RANK() OVER (ORDER BY count(diagnosis_type) DESC NULLS LAST ROWS BETWEEN UNBOUNDED PRECEDING AND CURRENT ROW)|\n",
            "+------+--------------------+---------------------+-------------------------------------------------------------------------------------------------------------+\n",
            "|Female|      Heart failure |                 9363|                                                                                                            1|\n",
            "|Female|  Diabetes mellitus |                 9227|                                                                                                            2|\n",
            "|  Male|      Heart failure |                 7752|                                                                                                            3|\n",
            "|  Male|  Diabetes mellitus |                 7584|                                                                                                            4|\n",
            "|Female|Disorders of flui...|                 7301|                                                                                                            5|\n",
            "|  Male|Other forms of ch...|                 6993|                                                                                                            6|\n",
            "|Female|Essential hyperte...|                 6845|                                                                                                            7|\n",
            "|Female|Cardiac dysrhythm...|                 5379|                                                                                                            8|\n",
            "|  Male|Cardiac dysrhythm...|                 5374|                                                                                                            9|\n",
            "|  Male|Disorders of flui...|                 5302|                                                                                                           10|\n",
            "|  Male|Essential hyperte...|                 5193|                                                                                                           11|\n",
            "|Female|Other forms of ch...|                 5015|                                                                                                           12|\n",
            "|Female|Other disorders o...|                 4720|                                                                                                           13|\n",
            "|  Male|Chronic airways o...|                 2999|                                                                                                           14|\n",
            "|Female|Hypertensive rena...|                 2882|                                                                                                           15|\n",
            "|Female|Symptoms involvin...|                 2860|                                                                                                           16|\n",
            "|Female|Chronic airways o...|                 2855|                                                                                                           17|\n",
            "|Female|Pneumonia, organi...|                 2785|                                                                                                           18|\n",
            "|  Male|Hypertensive rena...|                 2718|                                                                                                           19|\n",
            "|  Male|Pneumonia, organi...|                 2527|                                                                                                           20|\n",
            "+------+--------------------+---------------------+-------------------------------------------------------------------------------------------------------------+\n",
            "only showing top 20 rows\n",
            "\n",
            "--- 6.681932687759399 seconds ---\n"
          ]
        }
      ]
    },
    {
      "cell_type": "code",
      "source": [
        "#Reset and Start Timer to time how long it takes to run the query for question 4\n",
        "start_time = time.time()\n",
        "\n",
        "#Run query for question # 4\n",
        "spark.sql(question4).show()\n",
        "\n",
        "#End Timer\n",
        "print(\"--- %s seconds ---\" % (time.time() - start_time))"
      ],
      "metadata": {
        "id": "5jIuUM9uwdSA",
        "colab": {
          "base_uri": "https://localhost:8080/"
        },
        "outputId": "fb72097d-1897-445e-a8a7-087dbfbf88c1"
      },
      "execution_count": 46,
      "outputs": [
        {
          "output_type": "stream",
          "name": "stdout",
          "text": [
            "+--------+---------------+---------------------+-------------------------------------------------------------------------------------------------------------+\n",
            "|     age|           race|count(diagnosis_type)|RANK() OVER (ORDER BY count(diagnosis_type) DESC NULLS LAST ROWS BETWEEN UNBOUNDED PRECEDING AND CURRENT ROW)|\n",
            "+--------+---------------+---------------------+-------------------------------------------------------------------------------------------------------------+\n",
            "| [70-80)|      Caucasian|                 6309|                                                                                                            1|\n",
            "| [60-70)|      Caucasian|                 4685|                                                                                                            2|\n",
            "| [80-90)|      Caucasian|                 4442|                                                                                                            3|\n",
            "| [50-60)|      Caucasian|                 2934|                                                                                                            4|\n",
            "| [40-50)|      Caucasian|                 1577|                                                                                                            5|\n",
            "| [60-70)|AfricanAmerican|                 1240|                                                                                                            6|\n",
            "| [70-80)|AfricanAmerican|                 1158|                                                                                                            7|\n",
            "| [50-60)|AfricanAmerican|                  982|                                                                                                            8|\n",
            "| [40-50)|AfricanAmerican|                  848|                                                                                                            9|\n",
            "|[90-100)|      Caucasian|                  569|                                                                                                           10|\n",
            "| [30-40)|      Caucasian|                  549|                                                                                                           11|\n",
            "| [80-90)|AfricanAmerican|                  514|                                                                                                           12|\n",
            "| [30-40)|AfricanAmerican|                  310|                                                                                                           13|\n",
            "| [20-30)|      Caucasian|                  272|                                                                                                           14|\n",
            "| [20-30)|AfricanAmerican|                  159|                                                                                                           15|\n",
            "| [60-70)|       Hispanic|                  140|                                                                                                           16|\n",
            "| [70-80)|       Hispanic|                  124|                                                                                                           17|\n",
            "| [40-50)|       Hispanic|                  112|                                                                                                           18|\n",
            "| [60-70)|          Other|                  107|                                                                                                           19|\n",
            "| [70-80)|          Other|                   94|                                                                                                           20|\n",
            "+--------+---------------+---------------------+-------------------------------------------------------------------------------------------------------------+\n",
            "only showing top 20 rows\n",
            "\n",
            "--- 3.614617109298706 seconds ---\n"
          ]
        }
      ]
    },
    {
      "cell_type": "markdown",
      "source": [
        "#Caching Demonstration #\n",
        "\n",
        "*   Rerun previous queries with views cached\n",
        "\n"
      ],
      "metadata": {
        "id": "kKPKb62I1Qje"
      }
    },
    {
      "cell_type": "code",
      "source": [
        "#Cache parquet views\n",
        "spark.sql(\"cache table p_diagnosis\")\n",
        "spark.sql(\"cache table p_patient_medications\")\n",
        "spark.sql(\"cache table p_medications\")\n",
        "spark.sql(\"cache table p_patients\")\n",
        "spark.sql(\"cache table p_encounters\")\n"
      ],
      "metadata": {
        "id": "me_txAUe1OwX",
        "colab": {
          "base_uri": "https://localhost:8080/"
        },
        "outputId": "b80e7426-fb77-4b78-fc3c-a7aa4be990bd"
      },
      "execution_count": 47,
      "outputs": [
        {
          "output_type": "execute_result",
          "data": {
            "text/plain": [
              "DataFrame[]"
            ]
          },
          "metadata": {},
          "execution_count": 47
        }
      ]
    },
    {
      "cell_type": "code",
      "source": [
        "#Run queries on parquet views\n",
        "#Reset and Start Timer to time how long it takes to run the query for question 1\n",
        "start_time = time.time()\n",
        "\n",
        "#Run query for question # 1\n",
        "spark.sql(question1).show()\n",
        "\n",
        "#End Timer\n",
        "print(\"--- %s seconds ---\" % (time.time() - start_time))"
      ],
      "metadata": {
        "id": "FAsvIv9B3MZU",
        "colab": {
          "base_uri": "https://localhost:8080/"
        },
        "outputId": "f5492afc-8dd1-4b3d-a5ca-142d9aa6dfd3"
      },
      "execution_count": 48,
      "outputs": [
        {
          "output_type": "stream",
          "name": "stdout",
          "text": [
            "+--------------------+---------------------------------+\n",
            "|     medication_type|percentage_of_readmitted_patients|\n",
            "+--------------------+---------------------------------+\n",
            "|metformin-pioglit...|                              0.0|\n",
            "|glimepiride-piogl...|                              0.0|\n",
            "|        troglitazone|                              0.0|\n",
            "|       acetohexamide|                              0.0|\n",
            "|         tolbutamide|                             4.55|\n",
            "|      chlorpropamide|                             6.02|\n",
            "| glipizide-metformin|                             7.69|\n",
            "|          tolazamide|                             8.11|\n",
            "|            acarbose|                             9.03|\n",
            "|           metformin|                             9.79|\n",
            "|         glimepiride|                            10.23|\n",
            "|       rosiglitazone|                            10.48|\n",
            "|        pioglitazone|                            10.59|\n",
            "| glyburide-metformin|                            10.61|\n",
            "|           glyburide|                            10.74|\n",
            "|            miglitol|                            10.81|\n",
            "|           glipizide|                            11.58|\n",
            "|         nateglinide|                            11.58|\n",
            "|             insulin|                             12.3|\n",
            "|         repaglinide|                            13.39|\n",
            "+--------------------+---------------------------------+\n",
            "\n",
            "--- 0.849320650100708 seconds ---\n"
          ]
        }
      ]
    },
    {
      "cell_type": "code",
      "source": [
        "#Reset and Start Timer to time how long it takes to run the query for question 2\n",
        "start_time = time.time()\n",
        "\n",
        "#Run query for question # 2\n",
        "spark.sql(question2).show()\n",
        "\n",
        "#End Timer\n",
        "print(\"--- %s seconds ---\" % (time.time() - start_time))"
      ],
      "metadata": {
        "id": "O5AcbTvo4qCM",
        "colab": {
          "base_uri": "https://localhost:8080/"
        },
        "outputId": "c26761a8-d7aa-4bf4-d35f-22498442b5b1"
      },
      "execution_count": 49,
      "outputs": [
        {
          "output_type": "stream",
          "name": "stdout",
          "text": [
            "+--------+-------------------------------+\n",
            "|     age|round(avg(time_in_hospital), 2)|\n",
            "+--------+-------------------------------+\n",
            "|  [0-10)|                           2.96|\n",
            "| [10-20)|                           3.71|\n",
            "| [20-30)|                           3.75|\n",
            "| [30-40)|                           3.98|\n",
            "| [40-50)|                           4.19|\n",
            "| [50-60)|                           4.24|\n",
            "| [60-70)|                            4.5|\n",
            "| [70-80)|                           4.71|\n",
            "| [80-90)|                           4.93|\n",
            "|[90-100)|                           4.97|\n",
            "+--------+-------------------------------+\n",
            "\n",
            "--- 0.5284032821655273 seconds ---\n"
          ]
        }
      ]
    },
    {
      "cell_type": "code",
      "source": [
        "#Reset and Start Timer to time how long it takes to run the query for question 3\n",
        "start_time = time.time()\n",
        "\n",
        "#Run query for question # 3\n",
        "spark.sql(question3).show()\n",
        "\n",
        "#End Timer\n",
        "print(\"--- %s seconds ---\" % (time.time() - start_time))"
      ],
      "metadata": {
        "id": "fK1ZPMWx4qQJ",
        "colab": {
          "base_uri": "https://localhost:8080/"
        },
        "outputId": "6abde5ea-0edb-4be7-be50-8ec589a84353"
      },
      "execution_count": 50,
      "outputs": [
        {
          "output_type": "stream",
          "name": "stdout",
          "text": [
            "+------+--------------------+---------------------+-------------------------------------------------------------------------------------------------------------+\n",
            "|gender|      diagnosis_type|count(diagnosis_type)|RANK() OVER (ORDER BY count(diagnosis_type) DESC NULLS LAST ROWS BETWEEN UNBOUNDED PRECEDING AND CURRENT ROW)|\n",
            "+------+--------------------+---------------------+-------------------------------------------------------------------------------------------------------------+\n",
            "|Female|      Heart failure |                 9363|                                                                                                            1|\n",
            "|Female|  Diabetes mellitus |                 9227|                                                                                                            2|\n",
            "|  Male|      Heart failure |                 7752|                                                                                                            3|\n",
            "|  Male|  Diabetes mellitus |                 7584|                                                                                                            4|\n",
            "|Female|Disorders of flui...|                 7301|                                                                                                            5|\n",
            "|  Male|Other forms of ch...|                 6993|                                                                                                            6|\n",
            "|Female|Essential hyperte...|                 6845|                                                                                                            7|\n",
            "|Female|Cardiac dysrhythm...|                 5379|                                                                                                            8|\n",
            "|  Male|Cardiac dysrhythm...|                 5374|                                                                                                            9|\n",
            "|  Male|Disorders of flui...|                 5302|                                                                                                           10|\n",
            "|  Male|Essential hyperte...|                 5193|                                                                                                           11|\n",
            "|Female|Other forms of ch...|                 5015|                                                                                                           12|\n",
            "|Female|Other disorders o...|                 4720|                                                                                                           13|\n",
            "|  Male|Chronic airways o...|                 2999|                                                                                                           14|\n",
            "|Female|Hypertensive rena...|                 2882|                                                                                                           15|\n",
            "|Female|Symptoms involvin...|                 2860|                                                                                                           16|\n",
            "|Female|Chronic airways o...|                 2855|                                                                                                           17|\n",
            "|Female|Pneumonia, organi...|                 2785|                                                                                                           18|\n",
            "|  Male|Hypertensive rena...|                 2718|                                                                                                           19|\n",
            "|  Male|Pneumonia, organi...|                 2527|                                                                                                           20|\n",
            "+------+--------------------+---------------------+-------------------------------------------------------------------------------------------------------------+\n",
            "only showing top 20 rows\n",
            "\n",
            "--- 5.8072593212127686 seconds ---\n"
          ]
        }
      ]
    },
    {
      "cell_type": "code",
      "source": [
        "#Reset and Start Timer to time how long it takes to run the query for question 4\n",
        "start_time = time.time()\n",
        "\n",
        "#Run query for question # 4\n",
        "spark.sql(question4).show()\n",
        "\n",
        "#End Timer\n",
        "print(\"--- %s seconds ---\" % (time.time() - start_time))"
      ],
      "metadata": {
        "id": "-z3UUbVy4qZ4",
        "colab": {
          "base_uri": "https://localhost:8080/"
        },
        "outputId": "31969141-615c-4346-b83a-4f42a8661a69"
      },
      "execution_count": 51,
      "outputs": [
        {
          "output_type": "stream",
          "name": "stdout",
          "text": [
            "+--------+---------------+---------------------+-------------------------------------------------------------------------------------------------------------+\n",
            "|     age|           race|count(diagnosis_type)|RANK() OVER (ORDER BY count(diagnosis_type) DESC NULLS LAST ROWS BETWEEN UNBOUNDED PRECEDING AND CURRENT ROW)|\n",
            "+--------+---------------+---------------------+-------------------------------------------------------------------------------------------------------------+\n",
            "| [70-80)|      Caucasian|                 6309|                                                                                                            1|\n",
            "| [60-70)|      Caucasian|                 4685|                                                                                                            2|\n",
            "| [80-90)|      Caucasian|                 4442|                                                                                                            3|\n",
            "| [50-60)|      Caucasian|                 2934|                                                                                                            4|\n",
            "| [40-50)|      Caucasian|                 1577|                                                                                                            5|\n",
            "| [60-70)|AfricanAmerican|                 1240|                                                                                                            6|\n",
            "| [70-80)|AfricanAmerican|                 1158|                                                                                                            7|\n",
            "| [50-60)|AfricanAmerican|                  982|                                                                                                            8|\n",
            "| [40-50)|AfricanAmerican|                  848|                                                                                                            9|\n",
            "|[90-100)|      Caucasian|                  569|                                                                                                           10|\n",
            "| [30-40)|      Caucasian|                  549|                                                                                                           11|\n",
            "| [80-90)|AfricanAmerican|                  514|                                                                                                           12|\n",
            "| [30-40)|AfricanAmerican|                  310|                                                                                                           13|\n",
            "| [20-30)|      Caucasian|                  272|                                                                                                           14|\n",
            "| [20-30)|AfricanAmerican|                  159|                                                                                                           15|\n",
            "| [60-70)|       Hispanic|                  140|                                                                                                           16|\n",
            "| [70-80)|       Hispanic|                  124|                                                                                                           17|\n",
            "| [40-50)|       Hispanic|                  112|                                                                                                           18|\n",
            "| [60-70)|          Other|                  107|                                                                                                           19|\n",
            "| [70-80)|          Other|                   94|                                                                                                           20|\n",
            "+--------+---------------+---------------------+-------------------------------------------------------------------------------------------------------------+\n",
            "only showing top 20 rows\n",
            "\n",
            "--- 2.1417884826660156 seconds ---\n"
          ]
        }
      ]
    },
    {
      "cell_type": "markdown",
      "source": [
        "# **Assertion Tests**"
      ],
      "metadata": {
        "id": "u1ueqJCrr_vz"
      }
    },
    {
      "cell_type": "code",
      "source": [
        "# Install pytest and pytest-sugar to make our output look nice.\n",
        "!pip install -q pytest pytest-sugar"
      ],
      "metadata": {
        "id": "mKUoFkRvsE_s"
      },
      "execution_count": 52,
      "outputs": []
    },
    {
      "cell_type": "code",
      "source": [
        "# Create and navigate to the tests directory.\n",
        "from pathlib import Path\n",
        "if Path.cwd().name != 'tests':\n",
        "    %mkdir tests\n",
        "    %cd tests\n",
        "# Show the current working directory. \n",
        "%pwd"
      ],
      "metadata": {
        "id": "Li8JwvzisNAY",
        "colab": {
          "base_uri": "https://localhost:8080/",
          "height": 70
        },
        "outputId": "f784720c-e5e7-4e57-803f-02dac04ea50c"
      },
      "execution_count": 53,
      "outputs": [
        {
          "output_type": "stream",
          "name": "stdout",
          "text": [
            "mkdir: cannot create directory ‘tests’: File exists\n",
            "/content/tests\n"
          ]
        },
        {
          "output_type": "execute_result",
          "data": {
            "text/plain": [
              "'/content/tests'"
            ],
            "application/vnd.google.colaboratory.intrinsic+json": {
              "type": "string"
            }
          },
          "metadata": {},
          "execution_count": 53
        }
      ]
    },
    {
      "cell_type": "code",
      "source": [
        "# Create a  __init__.py file that will contain that will be used to run our functions. \n",
        "# This file will be stored in our pwd (/content/tests)\n",
        "%%file __init__.py\n",
        "pass"
      ],
      "metadata": {
        "id": "K_q9CmyrsQ3y",
        "colab": {
          "base_uri": "https://localhost:8080/"
        },
        "outputId": "d4fb9ff2-ee56-4d98-e965-59e52e6d39b5"
      },
      "execution_count": 54,
      "outputs": [
        {
          "output_type": "stream",
          "name": "stdout",
          "text": [
            "Overwriting __init__.py\n"
          ]
        }
      ]
    },
    {
      "cell_type": "code",
      "source": [
        "# Create a diabetic_data.py file that will contain the import_data function.\n",
        "# This file will be stored in our pwd (/content/tests).\n",
        "%%file diabetic_data.py\n",
        "\n",
        "# Import findspark() and initialize.\n",
        "import findspark\n",
        "findspark.init()\n",
        "\n",
        "import numpy as np\n",
        "\n",
        "\n",
        "# Import other dependencies.\n",
        "from pyspark import SparkFiles\n",
        "from pyspark.sql import SparkSession\n",
        "spark = SparkSession.builder.appName(\"Spark_Diabetic_Data\").getOrCreate()\n",
        "\n",
        "# Create the import_data function.\n",
        "def import_data():\n",
        "    df = spark.read.csv(\"diabetic_data.csv\", sep=\",\", header=True, inferSchema=True)\n",
        "    df.createOrReplaceTempView('diabetic_data')\n",
        "    \n",
        "    return df"
      ],
      "metadata": {
        "id": "KYlfVLKgMOgb",
        "colab": {
          "base_uri": "https://localhost:8080/"
        },
        "outputId": "bcde00cd-256a-4578-d0db-d32d76493bf2"
      },
      "execution_count": 62,
      "outputs": [
        {
          "output_type": "stream",
          "name": "stdout",
          "text": [
            "Overwriting diabetic_data.py\n"
          ]
        }
      ]
    },
    {
      "cell_type": "code",
      "source": [
        "# Create a test_bank_data.py file that will contain the the test functions.\n",
        "# This file will be stored in our pwd (/content/tdd).\n",
        "\n",
        "%%file test_diabetic_data.py\n",
        "\n",
        "import pandas as pd\n",
        "\n",
        "from diabetic_data import import_data\n",
        "\n",
        "#assert statement definitions\n",
        "# asserting number of rows in master dataset\n",
        "def test_row_count_before_transform():\n",
        "    df = import_data()\n",
        "    assert df.count() == 101766\n",
        "\n",
        "#asserting #of columns in master dataset\n",
        "def test_column_count_before_transform():\n",
        "    df = import_data()\n",
        "    assert len(df.columns) == 50\n",
        "\n",
        "# asserting number of columns after removing 3 columns with missing values\n",
        "def test_column_count_after_transform():\n",
        "    df = import_data()\n",
        "    df = df.drop('weight','medical_specialty','payer_code')\n",
        "    assert len(df.columns) == 47\n",
        "\n",
        "# asserting number of medication type values after pivoting from master dataset\n",
        "def test_column_count_of_medication():\n",
        "    df = import_data()\n",
        "    df2 = pd.read_csv(\"Medication Table.csv\")\n",
        "    assert len(df.columns[24:47]) == len(df2)\n"
      ],
      "metadata": {
        "id": "y3QDMmRTsVMO",
        "colab": {
          "base_uri": "https://localhost:8080/"
        },
        "outputId": "ad1b485c-df3f-42ac-aaa4-638961fd37e0"
      },
      "execution_count": 69,
      "outputs": [
        {
          "output_type": "stream",
          "name": "stdout",
          "text": [
            "Overwriting test_diabetic_data.py\n"
          ]
        }
      ]
    },
    {
      "cell_type": "code",
      "source": [
        "!python -m pytest test_diabetic_data.py"
      ],
      "metadata": {
        "colab": {
          "base_uri": "https://localhost:8080/"
        },
        "outputId": "c0dbe2c9-d076-40cd-8417-a798eb3c9739",
        "id": "iRp1w_pTQXoK"
      },
      "execution_count": 68,
      "outputs": [
        {
          "output_type": "stream",
          "name": "stdout",
          "text": [
            "\u001b[1mTest session starts (platform: linux, Python 3.7.14, pytest 3.6.4, pytest-sugar 0.9.5)\u001b[0m\n",
            "rootdir: /content/tests, inifile:\n",
            "plugins: typeguard-2.7.1, sugar-0.9.5\n",
            "\n",
            " \u001b[36m\u001b[0mtest_diabetic_data.py\u001b[0m \u001b[32m✓\u001b[0m\u001b[32m✓\u001b[0m\u001b[32m✓\u001b[0m\u001b[32m✓\u001b[0m                                      \u001b[32m100% \u001b[0m\u001b[40m\u001b[32m█\u001b[0m\u001b[40m\u001b[32m█\u001b[0m\u001b[40m\u001b[32m█\u001b[0m\u001b[40m\u001b[32m██\u001b[0m\u001b[40m\u001b[32m█\u001b[0m\u001b[40m\u001b[32m█\u001b[0m\u001b[40m\u001b[32m█\u001b[0m\u001b[40m\u001b[32m██\u001b[0m\n",
            "\n",
            "Results (15.84s):\n",
            "\u001b[32m       4 passed\u001b[0m\n"
          ]
        }
      ]
    }
  ]
}