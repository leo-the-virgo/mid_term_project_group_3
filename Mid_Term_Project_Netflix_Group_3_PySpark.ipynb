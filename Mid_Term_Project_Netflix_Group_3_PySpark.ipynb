{
  "nbformat": 4,
  "nbformat_minor": 0,
  "metadata": {
    "colab": {
      "provenance": [],
      "collapsed_sections": []
    },
    "kernelspec": {
      "name": "python3",
      "display_name": "Python 3"
    },
    "language_info": {
      "name": "python"
    }
  },
  "cells": [
    {
      "cell_type": "code",
      "source": [
        "# Activate Spark in our Colab notebook.\n",
        "import os\n"
      ],
      "metadata": {
        "id": "yArs7OmNSgv2"
      },
      "execution_count": 31,
      "outputs": []
    },
    {
      "cell_type": "code",
      "source": [
        "# Find the latest version of spark 3.0  from http://www.apache.org/dist/spark/ and enter as the spark version\n",
        "# For example: 'spark-3.2.2'\n",
        "spark_version = 'spark-3.2.2'"
      ],
      "metadata": {
        "id": "Qi9HMnQ5Sg6n"
      },
      "execution_count": 32,
      "outputs": []
    },
    {
      "cell_type": "code",
      "source": [
        "# spark_version = 'spark-3.<enter version>'\n",
        "os.environ['SPARK_VERSION']=spark_version"
      ],
      "metadata": {
        "id": "59GunqvxSoM0"
      },
      "execution_count": 33,
      "outputs": []
    },
    {
      "cell_type": "code",
      "source": [
        "# Install Spark and Java\n",
        "!apt-get update\n",
        "!apt-get install openjdk-11-jdk-headless -qq > /dev/null\n",
        "!wget -q http://www.apache.org/dist/spark/$SPARK_VERSION/$SPARK_VERSION-bin-hadoop3.2.tgz\n",
        "!tar xf $SPARK_VERSION-bin-hadoop3.2.tgz\n",
        "!pip install -q findspark"
      ],
      "metadata": {
        "colab": {
          "base_uri": "https://localhost:8080/"
        },
        "id": "FwfPn3K3SoWd",
        "outputId": "a2cd1669-083c-4dad-e32f-e6126ad13d9d"
      },
      "execution_count": 34,
      "outputs": [
        {
          "output_type": "stream",
          "name": "stdout",
          "text": [
            "\r0% [Working]\r            \rIgn:1 https://developer.download.nvidia.com/compute/machine-learning/repos/ubuntu1804/x86_64  InRelease\n",
            "\r0% [Connecting to archive.ubuntu.com (185.125.190.39)] [Connecting to security.\r                                                                               \rHit:2 https://developer.download.nvidia.com/compute/cuda/repos/ubuntu1804/x86_64  InRelease\n",
            "\r0% [Connecting to archive.ubuntu.com (185.125.190.39)] [Connecting to security.\r                                                                               \rHit:3 https://cloud.r-project.org/bin/linux/ubuntu bionic-cran40/ InRelease\n",
            "Hit:4 https://developer.download.nvidia.com/compute/machine-learning/repos/ubuntu1804/x86_64  Release\n",
            "Hit:5 http://archive.ubuntu.com/ubuntu bionic InRelease\n",
            "Get:6 http://security.ubuntu.com/ubuntu bionic-security InRelease [88.7 kB]\n",
            "Get:7 http://archive.ubuntu.com/ubuntu bionic-updates InRelease [88.7 kB]\n",
            "Hit:8 http://ppa.launchpad.net/c2d4u.team/c2d4u4.0+/ubuntu bionic InRelease\n",
            "Hit:9 http://ppa.launchpad.net/cran/libgit2/ubuntu bionic InRelease\n",
            "Get:11 http://archive.ubuntu.com/ubuntu bionic-backports InRelease [83.3 kB]\n",
            "Hit:12 http://ppa.launchpad.net/deadsnakes/ppa/ubuntu bionic InRelease\n",
            "Hit:13 http://ppa.launchpad.net/graphics-drivers/ppa/ubuntu bionic InRelease\n",
            "Fetched 261 kB in 3s (102 kB/s)\n",
            "Reading package lists... Done\n"
          ]
        }
      ]
    },
    {
      "cell_type": "code",
      "source": [
        "# Set Environment Variables\n",
        "os.environ[\"JAVA_HOME\"] = \"/usr/lib/jvm/java-11-openjdk-amd64\"\n",
        "os.environ[\"SPARK_HOME\"] = f\"/content/{spark_version}-bin-hadoop3.2\""
      ],
      "metadata": {
        "id": "JLX828AwSoZ6"
      },
      "execution_count": 35,
      "outputs": []
    },
    {
      "cell_type": "code",
      "source": [
        "# Start a SparkSession\n",
        "import findspark\n",
        "findspark.init()"
      ],
      "metadata": {
        "id": "M4n8A6B-Sody"
      },
      "execution_count": 36,
      "outputs": []
    },
    {
      "cell_type": "code",
      "source": [
        "# Start Spark session\n",
        "from pyspark.sql import SparkSession\n",
        "import pandas as pd\n",
        "import numpy as np\n",
        "from pyspark.sql import DataFrameNaFunctions\n",
        "spark = SparkSession.builder.appName(\"group_3_midterm_pySpark\").getOrCreate()"
      ],
      "metadata": {
        "id": "8XAkehlnSogS"
      },
      "execution_count": 64,
      "outputs": []
    },
    {
      "cell_type": "code",
      "source": [
        "# Read in data from S3 Buckets\n",
        "from pyspark import SparkFiles\n",
        "#url = \"https://2u-data-curriculum-team.s3.amazonaws.com/nflx-data-science-adv/week-4/food.csv\"\n",
        "#spark.sparkContext.addFile(url)\n",
        "db_df = spark.read.csv(\"diabetic_data.csv\", sep=\",\", header=True)\n",
        "\n",
        "# Show DataFrame\n",
        "db_df.show()"
      ],
      "metadata": {
        "colab": {
          "base_uri": "https://localhost:8080/"
        },
        "id": "0t8HPiwwSokP",
        "outputId": "12ec1a95-ca29-45b0-b1ed-a3fb62376257"
      },
      "execution_count": 65,
      "outputs": [
        {
          "output_type": "stream",
          "name": "stdout",
          "text": [
            "+------------+-----------+---------------+------+--------+------+-----------------+------------------------+-------------------+----------------+----------+--------------------+------------------+--------------+---------------+-----------------+----------------+----------------+------+------+------+----------------+-------------+---------+---------+-----------+-----------+--------------+-----------+-------------+---------+---------+-----------+------------+-------------+--------+--------+------------+----------+-------+-----------+-------+-------------------+-------------------+------------------------+-----------------------+----------------------+------+-----------+----------+\n",
            "|encounter_id|patient_nbr|           race|gender|     age|weight|admission_type_id|discharge_disposition_id|admission_source_id|time_in_hospital|payer_code|   medical_specialty|num_lab_procedures|num_procedures|num_medications|number_outpatient|number_emergency|number_inpatient|diag_1|diag_2|diag_3|number_diagnoses|max_glu_serum|A1Cresult|metformin|repaglinide|nateglinide|chlorpropamide|glimepiride|acetohexamide|glipizide|glyburide|tolbutamide|pioglitazone|rosiglitazone|acarbose|miglitol|troglitazone|tolazamide|examide|citoglipton|insulin|glyburide-metformin|glipizide-metformin|glimepiride-pioglitazone|metformin-rosiglitazone|metformin-pioglitazone|change|diabetesMed|readmitted|\n",
            "+------------+-----------+---------------+------+--------+------+-----------------+------------------------+-------------------+----------------+----------+--------------------+------------------+--------------+---------------+-----------------+----------------+----------------+------+------+------+----------------+-------------+---------+---------+-----------+-----------+--------------+-----------+-------------+---------+---------+-----------+------------+-------------+--------+--------+------------+----------+-------+-----------+-------+-------------------+-------------------+------------------------+-----------------------+----------------------+------+-----------+----------+\n",
            "|     2278392|    8222157|      Caucasian|Female|  [0-10)|     ?|                6|                      25|                  1|               1|         ?|Pediatrics-Endocr...|                41|             0|              1|                0|               0|               0|250.83|     ?|     ?|               1|         None|     None|       No|         No|         No|            No|         No|           No|       No|       No|         No|          No|           No|      No|      No|          No|        No|     No|         No|     No|                 No|                 No|                      No|                     No|                    No|    No|         No|        NO|\n",
            "|      149190|   55629189|      Caucasian|Female| [10-20)|     ?|                1|                       1|                  7|               3|         ?|                   ?|                59|             0|             18|                0|               0|               0|   276|250.01|   255|               9|         None|     None|       No|         No|         No|            No|         No|           No|       No|       No|         No|          No|           No|      No|      No|          No|        No|     No|         No|     Up|                 No|                 No|                      No|                     No|                    No|    Ch|        Yes|       >30|\n",
            "|       64410|   86047875|AfricanAmerican|Female| [20-30)|     ?|                1|                       1|                  7|               2|         ?|                   ?|                11|             5|             13|                2|               0|               1|   648|   250|   V27|               6|         None|     None|       No|         No|         No|            No|         No|           No|   Steady|       No|         No|          No|           No|      No|      No|          No|        No|     No|         No|     No|                 No|                 No|                      No|                     No|                    No|    No|        Yes|        NO|\n",
            "|      500364|   82442376|      Caucasian|  Male| [30-40)|     ?|                1|                       1|                  7|               2|         ?|                   ?|                44|             1|             16|                0|               0|               0|     8|250.43|   403|               7|         None|     None|       No|         No|         No|            No|         No|           No|       No|       No|         No|          No|           No|      No|      No|          No|        No|     No|         No|     Up|                 No|                 No|                      No|                     No|                    No|    Ch|        Yes|        NO|\n",
            "|       16680|   42519267|      Caucasian|  Male| [40-50)|     ?|                1|                       1|                  7|               1|         ?|                   ?|                51|             0|              8|                0|               0|               0|   197|   157|   250|               5|         None|     None|       No|         No|         No|            No|         No|           No|   Steady|       No|         No|          No|           No|      No|      No|          No|        No|     No|         No| Steady|                 No|                 No|                      No|                     No|                    No|    Ch|        Yes|        NO|\n",
            "|       35754|   82637451|      Caucasian|  Male| [50-60)|     ?|                2|                       1|                  2|               3|         ?|                   ?|                31|             6|             16|                0|               0|               0|   414|   411|   250|               9|         None|     None|       No|         No|         No|            No|         No|           No|       No|       No|         No|          No|           No|      No|      No|          No|        No|     No|         No| Steady|                 No|                 No|                      No|                     No|                    No|    No|        Yes|       >30|\n",
            "|       55842|   84259809|      Caucasian|  Male| [60-70)|     ?|                3|                       1|                  2|               4|         ?|                   ?|                70|             1|             21|                0|               0|               0|   414|   411|   V45|               7|         None|     None|   Steady|         No|         No|            No|     Steady|           No|       No|       No|         No|          No|           No|      No|      No|          No|        No|     No|         No| Steady|                 No|                 No|                      No|                     No|                    No|    Ch|        Yes|        NO|\n",
            "|       63768|  114882984|      Caucasian|  Male| [70-80)|     ?|                1|                       1|                  7|               5|         ?|                   ?|                73|             0|             12|                0|               0|               0|   428|   492|   250|               8|         None|     None|       No|         No|         No|            No|         No|           No|       No|   Steady|         No|          No|           No|      No|      No|          No|        No|     No|         No|     No|                 No|                 No|                      No|                     No|                    No|    No|        Yes|       >30|\n",
            "|       12522|   48330783|      Caucasian|Female| [80-90)|     ?|                2|                       1|                  4|              13|         ?|                   ?|                68|             2|             28|                0|               0|               0|   398|   427|    38|               8|         None|     None|       No|         No|         No|            No|         No|           No|   Steady|       No|         No|          No|           No|      No|      No|          No|        No|     No|         No| Steady|                 No|                 No|                      No|                     No|                    No|    Ch|        Yes|        NO|\n",
            "|       15738|   63555939|      Caucasian|Female|[90-100)|     ?|                3|                       3|                  4|              12|         ?|    InternalMedicine|                33|             3|             18|                0|               0|               0|   434|   198|   486|               8|         None|     None|       No|         No|         No|            No|         No|           No|       No|       No|         No|          No|       Steady|      No|      No|          No|        No|     No|         No| Steady|                 No|                 No|                      No|                     No|                    No|    Ch|        Yes|        NO|\n",
            "|       28236|   89869032|AfricanAmerican|Female| [40-50)|     ?|                1|                       1|                  7|               9|         ?|                   ?|                47|             2|             17|                0|               0|               0| 250.7|   403|   996|               9|         None|     None|       No|         No|         No|            No|         No|           No|       No|       No|         No|          No|           No|      No|      No|          No|        No|     No|         No| Steady|                 No|                 No|                      No|                     No|                    No|    No|        Yes|       >30|\n",
            "|       36900|   77391171|AfricanAmerican|  Male| [60-70)|     ?|                2|                       1|                  4|               7|         ?|                   ?|                62|             0|             11|                0|               0|               0|   157|   288|   197|               7|         None|     None|       No|         No|         No|            No|         No|           No|       No|       Up|         No|          No|           No|      No|      No|          No|        No|     No|         No| Steady|                 No|                 No|                      No|                     No|                    No|    Ch|        Yes|       <30|\n",
            "|       40926|   85504905|      Caucasian|Female| [40-50)|     ?|                1|                       3|                  7|               7|         ?|Family/GeneralPra...|                60|             0|             15|                0|               1|               0|   428|250.43| 250.6|               8|         None|     None|   Steady|         Up|         No|            No|         No|           No|       No|       No|         No|          No|           No|      No|      No|          No|        No|     No|         No|   Down|                 No|                 No|                      No|                     No|                    No|    Ch|        Yes|       <30|\n",
            "|       42570|   77586282|      Caucasian|  Male| [80-90)|     ?|                1|                       6|                  7|              10|         ?|Family/GeneralPra...|                55|             1|             31|                0|               0|               0|   428|   411|   427|               8|         None|     None|       No|         No|         No|            No|         No|           No|       No|       No|         No|          No|           No|      No|      No|          No|        No|     No|         No| Steady|                 No|                 No|                      No|                     No|                    No|    No|        Yes|        NO|\n",
            "|       62256|   49726791|AfricanAmerican|Female| [60-70)|     ?|                3|                       1|                  2|               1|         ?|                   ?|                49|             5|              2|                0|               0|               0|   518|   998|   627|               8|         None|     None|       No|         No|         No|            No|         No|           No|       No|       No|         No|          No|           No|      No|      No|          No|        No|     No|         No| Steady|                 No|                 No|                      No|                     No|                    No|    No|        Yes|       >30|\n",
            "|       73578|   86328819|AfricanAmerican|  Male| [60-70)|     ?|                1|                       3|                  7|              12|         ?|                   ?|                75|             5|             13|                0|               0|               0|   999|   507|   996|               9|         None|     None|       No|         No|         No|            No|         No|           No|       No|       No|         No|          No|           No|      No|      No|          No|        No|     No|         No|     Up|                 No|                 No|                      No|                     No|                    No|    Ch|        Yes|        NO|\n",
            "|       77076|   92519352|AfricanAmerican|  Male| [50-60)|     ?|                1|                       1|                  7|               4|         ?|                   ?|                45|             4|             17|                0|               0|               0|   410|   411|   414|               8|         None|     None|       No|         No|         No|            No|         No|           No|   Steady|       No|         No|          No|           No|      No|      No|          No|        No|     No|         No| Steady|                 No|                 No|                      No|                     No|                    No|    Ch|        Yes|       <30|\n",
            "|       84222|  108662661|      Caucasian|Female| [50-60)|     ?|                1|                       1|                  7|               3|         ?|          Cardiology|                29|             0|             11|                0|               0|               0|   682|   174|   250|               3|         None|     None|       No|         No|         No|            No|         No|           No|       No|   Steady|         No|          No|           No|      No|      No|          No|        No|     No|         No|     No|                 No|                 No|                      No|                     No|                    No|    No|        Yes|        NO|\n",
            "|       89682|  107389323|AfricanAmerican|  Male| [70-80)|     ?|                1|                       1|                  7|               5|         ?|                   ?|                35|             5|             23|                0|               0|               0|   402|   425|   416|               9|         None|     None|       No|         No|         No|            No|         No|           No|       No|       No|         No|          No|           No|      No|      No|          No|        No|     No|         No| Steady|                 No|                 No|                      No|                     No|                    No|    No|        Yes|       >30|\n",
            "|      148530|   69422211|              ?|  Male| [70-80)|     ?|                3|                       6|                  2|               6|         ?|                   ?|                42|             2|             23|                0|               0|               0|   737|   427|   714|               8|         None|     None|       No|         No|         No|            No|         No|           No|       No|     Down|         No|          No|           No|      No|      No|          No|        No|     No|         No| Steady|                 No|                 No|                      No|                     No|                    No|    Ch|        Yes|        NO|\n",
            "+------------+-----------+---------------+------+--------+------+-----------------+------------------------+-------------------+----------------+----------+--------------------+------------------+--------------+---------------+-----------------+----------------+----------------+------+------+------+----------------+-------------+---------+---------+-----------+-----------+--------------+-----------+-------------+---------+---------+-----------+------------+-------------+--------+--------+------------+----------+-------+-----------+-------+-------------------+-------------------+------------------------+-----------------------+----------------------+------+-----------+----------+\n",
            "only showing top 20 rows\n",
            "\n"
          ]
        }
      ]
    },
    {
      "cell_type": "code",
      "source": [
        "#Look at the information on the datframe (the data types and the number of rows)\n",
        "db_df.printSchema()"
      ],
      "metadata": {
        "id": "0PmM3gQtGYVe",
        "colab": {
          "base_uri": "https://localhost:8080/"
        },
        "outputId": "f94dfbcf-b85b-406b-9ef9-6c100842e567"
      },
      "execution_count": 66,
      "outputs": [
        {
          "output_type": "stream",
          "name": "stdout",
          "text": [
            "root\n",
            " |-- encounter_id: string (nullable = true)\n",
            " |-- patient_nbr: string (nullable = true)\n",
            " |-- race: string (nullable = true)\n",
            " |-- gender: string (nullable = true)\n",
            " |-- age: string (nullable = true)\n",
            " |-- weight: string (nullable = true)\n",
            " |-- admission_type_id: string (nullable = true)\n",
            " |-- discharge_disposition_id: string (nullable = true)\n",
            " |-- admission_source_id: string (nullable = true)\n",
            " |-- time_in_hospital: string (nullable = true)\n",
            " |-- payer_code: string (nullable = true)\n",
            " |-- medical_specialty: string (nullable = true)\n",
            " |-- num_lab_procedures: string (nullable = true)\n",
            " |-- num_procedures: string (nullable = true)\n",
            " |-- num_medications: string (nullable = true)\n",
            " |-- number_outpatient: string (nullable = true)\n",
            " |-- number_emergency: string (nullable = true)\n",
            " |-- number_inpatient: string (nullable = true)\n",
            " |-- diag_1: string (nullable = true)\n",
            " |-- diag_2: string (nullable = true)\n",
            " |-- diag_3: string (nullable = true)\n",
            " |-- number_diagnoses: string (nullable = true)\n",
            " |-- max_glu_serum: string (nullable = true)\n",
            " |-- A1Cresult: string (nullable = true)\n",
            " |-- metformin: string (nullable = true)\n",
            " |-- repaglinide: string (nullable = true)\n",
            " |-- nateglinide: string (nullable = true)\n",
            " |-- chlorpropamide: string (nullable = true)\n",
            " |-- glimepiride: string (nullable = true)\n",
            " |-- acetohexamide: string (nullable = true)\n",
            " |-- glipizide: string (nullable = true)\n",
            " |-- glyburide: string (nullable = true)\n",
            " |-- tolbutamide: string (nullable = true)\n",
            " |-- pioglitazone: string (nullable = true)\n",
            " |-- rosiglitazone: string (nullable = true)\n",
            " |-- acarbose: string (nullable = true)\n",
            " |-- miglitol: string (nullable = true)\n",
            " |-- troglitazone: string (nullable = true)\n",
            " |-- tolazamide: string (nullable = true)\n",
            " |-- examide: string (nullable = true)\n",
            " |-- citoglipton: string (nullable = true)\n",
            " |-- insulin: string (nullable = true)\n",
            " |-- glyburide-metformin: string (nullable = true)\n",
            " |-- glipizide-metformin: string (nullable = true)\n",
            " |-- glimepiride-pioglitazone: string (nullable = true)\n",
            " |-- metformin-rosiglitazone: string (nullable = true)\n",
            " |-- metformin-pioglitazone: string (nullable = true)\n",
            " |-- change: string (nullable = true)\n",
            " |-- diabetesMed: string (nullable = true)\n",
            " |-- readmitted: string (nullable = true)\n",
            "\n"
          ]
        }
      ]
    },
    {
      "cell_type": "markdown",
      "source": [
        "# **ETL Process**"
      ],
      "metadata": {
        "id": "PXbJ5S76gYBv"
      }
    },
    {
      "cell_type": "code",
      "source": [
        "#drop weight, payor_code, medical speacialty\n",
        "df_dropped_col_3 = db_df.drop('weight','medical_specialty','payer_code')\n",
        "df_dropped_col_3"
      ],
      "metadata": {
        "id": "hB1fZx8OJSMW",
        "colab": {
          "base_uri": "https://localhost:8080/"
        },
        "outputId": "4407d821-ec28-493a-d784-d322b43f3212"
      },
      "execution_count": 67,
      "outputs": [
        {
          "output_type": "execute_result",
          "data": {
            "text/plain": [
              "DataFrame[encounter_id: string, patient_nbr: string, race: string, gender: string, age: string, admission_type_id: string, discharge_disposition_id: string, admission_source_id: string, time_in_hospital: string, num_lab_procedures: string, num_procedures: string, num_medications: string, number_outpatient: string, number_emergency: string, number_inpatient: string, diag_1: string, diag_2: string, diag_3: string, number_diagnoses: string, max_glu_serum: string, A1Cresult: string, metformin: string, repaglinide: string, nateglinide: string, chlorpropamide: string, glimepiride: string, acetohexamide: string, glipizide: string, glyburide: string, tolbutamide: string, pioglitazone: string, rosiglitazone: string, acarbose: string, miglitol: string, troglitazone: string, tolazamide: string, examide: string, citoglipton: string, insulin: string, glyburide-metformin: string, glipizide-metformin: string, glimepiride-pioglitazone: string, metformin-rosiglitazone: string, metformin-pioglitazone: string, change: string, diabetesMed: string, readmitted: string]"
            ]
          },
          "metadata": {},
          "execution_count": 67
        }
      ]
    },
    {
      "cell_type": "code",
      "source": [
        "#replace question mark signs with Na\n",
        "#df_w_nulls=df_dropped_col_3.replace(\"?\",None).show()\n",
        "df_w_nulls=df_dropped_col_3.na.fill(value = \"?\", subset = None)"
      ],
      "metadata": {
        "id": "eo2vBXhwVAIg"
      },
      "execution_count": 112,
      "outputs": []
    },
    {
      "cell_type": "code",
      "source": [
        "df_w_nulls.show()"
      ],
      "metadata": {
        "colab": {
          "base_uri": "https://localhost:8080/"
        },
        "id": "3tkDVHXAghvx",
        "outputId": "b3faf66b-8959-4b67-be11-2f7fc09073d1"
      },
      "execution_count": 113,
      "outputs": [
        {
          "output_type": "stream",
          "name": "stdout",
          "text": [
            "+------------+-----------+---------------+------+--------+-----------------+------------------------+-------------------+----------------+------------------+--------------+---------------+-----------------+----------------+----------------+------+------+------+----------------+-------------+---------+---------+-----------+-----------+--------------+-----------+-------------+---------+---------+-----------+------------+-------------+--------+--------+------------+----------+-------+-----------+-------+-------------------+-------------------+------------------------+-----------------------+----------------------+------+-----------+----------+\n",
            "|encounter_id|patient_nbr|           race|gender|     age|admission_type_id|discharge_disposition_id|admission_source_id|time_in_hospital|num_lab_procedures|num_procedures|num_medications|number_outpatient|number_emergency|number_inpatient|diag_1|diag_2|diag_3|number_diagnoses|max_glu_serum|A1Cresult|metformin|repaglinide|nateglinide|chlorpropamide|glimepiride|acetohexamide|glipizide|glyburide|tolbutamide|pioglitazone|rosiglitazone|acarbose|miglitol|troglitazone|tolazamide|examide|citoglipton|insulin|glyburide-metformin|glipizide-metformin|glimepiride-pioglitazone|metformin-rosiglitazone|metformin-pioglitazone|change|diabetesMed|readmitted|\n",
            "+------------+-----------+---------------+------+--------+-----------------+------------------------+-------------------+----------------+------------------+--------------+---------------+-----------------+----------------+----------------+------+------+------+----------------+-------------+---------+---------+-----------+-----------+--------------+-----------+-------------+---------+---------+-----------+------------+-------------+--------+--------+------------+----------+-------+-----------+-------+-------------------+-------------------+------------------------+-----------------------+----------------------+------+-----------+----------+\n",
            "|     2278392|    8222157|      Caucasian|Female|  [0-10)|                6|                      25|                  1|               1|                41|             0|              1|                0|               0|               0|250.83|     ?|     ?|               1|         None|     None|       No|         No|         No|            No|         No|           No|       No|       No|         No|          No|           No|      No|      No|          No|        No|     No|         No|     No|                 No|                 No|                      No|                     No|                    No|    No|         No|        NO|\n",
            "|      149190|   55629189|      Caucasian|Female| [10-20)|                1|                       1|                  7|               3|                59|             0|             18|                0|               0|               0|   276|250.01|   255|               9|         None|     None|       No|         No|         No|            No|         No|           No|       No|       No|         No|          No|           No|      No|      No|          No|        No|     No|         No|     Up|                 No|                 No|                      No|                     No|                    No|    Ch|        Yes|       >30|\n",
            "|       64410|   86047875|AfricanAmerican|Female| [20-30)|                1|                       1|                  7|               2|                11|             5|             13|                2|               0|               1|   648|   250|   V27|               6|         None|     None|       No|         No|         No|            No|         No|           No|   Steady|       No|         No|          No|           No|      No|      No|          No|        No|     No|         No|     No|                 No|                 No|                      No|                     No|                    No|    No|        Yes|        NO|\n",
            "|      500364|   82442376|      Caucasian|  Male| [30-40)|                1|                       1|                  7|               2|                44|             1|             16|                0|               0|               0|     8|250.43|   403|               7|         None|     None|       No|         No|         No|            No|         No|           No|       No|       No|         No|          No|           No|      No|      No|          No|        No|     No|         No|     Up|                 No|                 No|                      No|                     No|                    No|    Ch|        Yes|        NO|\n",
            "|       16680|   42519267|      Caucasian|  Male| [40-50)|                1|                       1|                  7|               1|                51|             0|              8|                0|               0|               0|   197|   157|   250|               5|         None|     None|       No|         No|         No|            No|         No|           No|   Steady|       No|         No|          No|           No|      No|      No|          No|        No|     No|         No| Steady|                 No|                 No|                      No|                     No|                    No|    Ch|        Yes|        NO|\n",
            "|       35754|   82637451|      Caucasian|  Male| [50-60)|                2|                       1|                  2|               3|                31|             6|             16|                0|               0|               0|   414|   411|   250|               9|         None|     None|       No|         No|         No|            No|         No|           No|       No|       No|         No|          No|           No|      No|      No|          No|        No|     No|         No| Steady|                 No|                 No|                      No|                     No|                    No|    No|        Yes|       >30|\n",
            "|       55842|   84259809|      Caucasian|  Male| [60-70)|                3|                       1|                  2|               4|                70|             1|             21|                0|               0|               0|   414|   411|   V45|               7|         None|     None|   Steady|         No|         No|            No|     Steady|           No|       No|       No|         No|          No|           No|      No|      No|          No|        No|     No|         No| Steady|                 No|                 No|                      No|                     No|                    No|    Ch|        Yes|        NO|\n",
            "|       63768|  114882984|      Caucasian|  Male| [70-80)|                1|                       1|                  7|               5|                73|             0|             12|                0|               0|               0|   428|   492|   250|               8|         None|     None|       No|         No|         No|            No|         No|           No|       No|   Steady|         No|          No|           No|      No|      No|          No|        No|     No|         No|     No|                 No|                 No|                      No|                     No|                    No|    No|        Yes|       >30|\n",
            "|       12522|   48330783|      Caucasian|Female| [80-90)|                2|                       1|                  4|              13|                68|             2|             28|                0|               0|               0|   398|   427|    38|               8|         None|     None|       No|         No|         No|            No|         No|           No|   Steady|       No|         No|          No|           No|      No|      No|          No|        No|     No|         No| Steady|                 No|                 No|                      No|                     No|                    No|    Ch|        Yes|        NO|\n",
            "|       15738|   63555939|      Caucasian|Female|[90-100)|                3|                       3|                  4|              12|                33|             3|             18|                0|               0|               0|   434|   198|   486|               8|         None|     None|       No|         No|         No|            No|         No|           No|       No|       No|         No|          No|       Steady|      No|      No|          No|        No|     No|         No| Steady|                 No|                 No|                      No|                     No|                    No|    Ch|        Yes|        NO|\n",
            "|       28236|   89869032|AfricanAmerican|Female| [40-50)|                1|                       1|                  7|               9|                47|             2|             17|                0|               0|               0| 250.7|   403|   996|               9|         None|     None|       No|         No|         No|            No|         No|           No|       No|       No|         No|          No|           No|      No|      No|          No|        No|     No|         No| Steady|                 No|                 No|                      No|                     No|                    No|    No|        Yes|       >30|\n",
            "|       36900|   77391171|AfricanAmerican|  Male| [60-70)|                2|                       1|                  4|               7|                62|             0|             11|                0|               0|               0|   157|   288|   197|               7|         None|     None|       No|         No|         No|            No|         No|           No|       No|       Up|         No|          No|           No|      No|      No|          No|        No|     No|         No| Steady|                 No|                 No|                      No|                     No|                    No|    Ch|        Yes|       <30|\n",
            "|       40926|   85504905|      Caucasian|Female| [40-50)|                1|                       3|                  7|               7|                60|             0|             15|                0|               1|               0|   428|250.43| 250.6|               8|         None|     None|   Steady|         Up|         No|            No|         No|           No|       No|       No|         No|          No|           No|      No|      No|          No|        No|     No|         No|   Down|                 No|                 No|                      No|                     No|                    No|    Ch|        Yes|       <30|\n",
            "|       42570|   77586282|      Caucasian|  Male| [80-90)|                1|                       6|                  7|              10|                55|             1|             31|                0|               0|               0|   428|   411|   427|               8|         None|     None|       No|         No|         No|            No|         No|           No|       No|       No|         No|          No|           No|      No|      No|          No|        No|     No|         No| Steady|                 No|                 No|                      No|                     No|                    No|    No|        Yes|        NO|\n",
            "|       62256|   49726791|AfricanAmerican|Female| [60-70)|                3|                       1|                  2|               1|                49|             5|              2|                0|               0|               0|   518|   998|   627|               8|         None|     None|       No|         No|         No|            No|         No|           No|       No|       No|         No|          No|           No|      No|      No|          No|        No|     No|         No| Steady|                 No|                 No|                      No|                     No|                    No|    No|        Yes|       >30|\n",
            "|       73578|   86328819|AfricanAmerican|  Male| [60-70)|                1|                       3|                  7|              12|                75|             5|             13|                0|               0|               0|   999|   507|   996|               9|         None|     None|       No|         No|         No|            No|         No|           No|       No|       No|         No|          No|           No|      No|      No|          No|        No|     No|         No|     Up|                 No|                 No|                      No|                     No|                    No|    Ch|        Yes|        NO|\n",
            "|       77076|   92519352|AfricanAmerican|  Male| [50-60)|                1|                       1|                  7|               4|                45|             4|             17|                0|               0|               0|   410|   411|   414|               8|         None|     None|       No|         No|         No|            No|         No|           No|   Steady|       No|         No|          No|           No|      No|      No|          No|        No|     No|         No| Steady|                 No|                 No|                      No|                     No|                    No|    Ch|        Yes|       <30|\n",
            "|       84222|  108662661|      Caucasian|Female| [50-60)|                1|                       1|                  7|               3|                29|             0|             11|                0|               0|               0|   682|   174|   250|               3|         None|     None|       No|         No|         No|            No|         No|           No|       No|   Steady|         No|          No|           No|      No|      No|          No|        No|     No|         No|     No|                 No|                 No|                      No|                     No|                    No|    No|        Yes|        NO|\n",
            "|       89682|  107389323|AfricanAmerican|  Male| [70-80)|                1|                       1|                  7|               5|                35|             5|             23|                0|               0|               0|   402|   425|   416|               9|         None|     None|       No|         No|         No|            No|         No|           No|       No|       No|         No|          No|           No|      No|      No|          No|        No|     No|         No| Steady|                 No|                 No|                      No|                     No|                    No|    No|        Yes|       >30|\n",
            "|      148530|   69422211|              ?|  Male| [70-80)|                3|                       6|                  2|               6|                42|             2|             23|                0|               0|               0|   737|   427|   714|               8|         None|     None|       No|         No|         No|            No|         No|           No|       No|     Down|         No|          No|           No|      No|      No|          No|        No|     No|         No| Steady|                 No|                 No|                      No|                     No|                    No|    Ch|        Yes|        NO|\n",
            "+------------+-----------+---------------+------+--------+-----------------+------------------------+-------------------+----------------+------------------+--------------+---------------+-----------------+----------------+----------------+------+------+------+----------------+-------------+---------+---------+-----------+-----------+--------------+-----------+-------------+---------+---------+-----------+------------+-------------+--------+--------+------------+----------+-------+-----------+-------+-------------------+-------------------+------------------------+-----------------------+----------------------+------+-----------+----------+\n",
            "only showing top 20 rows\n",
            "\n"
          ]
        }
      ]
    },
    {
      "cell_type": "code",
      "source": [
        "from pyspark.sql import functions"
      ],
      "metadata": {
        "id": "PL_BkX3ceRl9"
      },
      "execution_count": 85,
      "outputs": []
    },
    {
      "cell_type": "code",
      "source": [
        "#drop null values and reset the index\n",
        "#df_w_nulls.na.drop(\"any\").show(false)\n",
        "#new=df_w_nulls.na.drop(how=\"all\", inplace=False)\n",
        "dropped_df=df_w_nulls.na.drop()\n",
        "#dropped_df=dropped_df.drop(columns=['index'])\n",
        "dropped_df.show()"
      ],
      "metadata": {
        "id": "WuBPZn6oVnL_",
        "colab": {
          "base_uri": "https://localhost:8080/"
        },
        "outputId": "d9148392-6b03-4cf2-9bb2-a76ba1c08ade"
      },
      "execution_count": 96,
      "outputs": [
        {
          "output_type": "stream",
          "name": "stdout",
          "text": [
            "+------------+-----------+---------------+------+--------+-----------------+------------------------+-------------------+----------------+------------------+--------------+---------------+-----------------+----------------+----------------+------+------+------+----------------+-------------+---------+---------+-----------+-----------+--------------+-----------+-------------+---------+---------+-----------+------------+-------------+--------+--------+------------+----------+-------+-----------+-------+-------------------+-------------------+------------------------+-----------------------+----------------------+------+-----------+----------+\n",
            "|encounter_id|patient_nbr|           race|gender|     age|admission_type_id|discharge_disposition_id|admission_source_id|time_in_hospital|num_lab_procedures|num_procedures|num_medications|number_outpatient|number_emergency|number_inpatient|diag_1|diag_2|diag_3|number_diagnoses|max_glu_serum|A1Cresult|metformin|repaglinide|nateglinide|chlorpropamide|glimepiride|acetohexamide|glipizide|glyburide|tolbutamide|pioglitazone|rosiglitazone|acarbose|miglitol|troglitazone|tolazamide|examide|citoglipton|insulin|glyburide-metformin|glipizide-metformin|glimepiride-pioglitazone|metformin-rosiglitazone|metformin-pioglitazone|change|diabetesMed|readmitted|\n",
            "+------------+-----------+---------------+------+--------+-----------------+------------------------+-------------------+----------------+------------------+--------------+---------------+-----------------+----------------+----------------+------+------+------+----------------+-------------+---------+---------+-----------+-----------+--------------+-----------+-------------+---------+---------+-----------+------------+-------------+--------+--------+------------+----------+-------+-----------+-------+-------------------+-------------------+------------------------+-----------------------+----------------------+------+-----------+----------+\n",
            "|     2278392|    8222157|      Caucasian|Female|  [0-10)|                6|                      25|                  1|               1|                41|             0|              1|                0|               0|               0|250.83|     ?|     ?|               1|         None|     None|       No|         No|         No|            No|         No|           No|       No|       No|         No|          No|           No|      No|      No|          No|        No|     No|         No|     No|                 No|                 No|                      No|                     No|                    No|    No|         No|        NO|\n",
            "|      149190|   55629189|      Caucasian|Female| [10-20)|                1|                       1|                  7|               3|                59|             0|             18|                0|               0|               0|   276|250.01|   255|               9|         None|     None|       No|         No|         No|            No|         No|           No|       No|       No|         No|          No|           No|      No|      No|          No|        No|     No|         No|     Up|                 No|                 No|                      No|                     No|                    No|    Ch|        Yes|       >30|\n",
            "|       64410|   86047875|AfricanAmerican|Female| [20-30)|                1|                       1|                  7|               2|                11|             5|             13|                2|               0|               1|   648|   250|   V27|               6|         None|     None|       No|         No|         No|            No|         No|           No|   Steady|       No|         No|          No|           No|      No|      No|          No|        No|     No|         No|     No|                 No|                 No|                      No|                     No|                    No|    No|        Yes|        NO|\n",
            "|      500364|   82442376|      Caucasian|  Male| [30-40)|                1|                       1|                  7|               2|                44|             1|             16|                0|               0|               0|     8|250.43|   403|               7|         None|     None|       No|         No|         No|            No|         No|           No|       No|       No|         No|          No|           No|      No|      No|          No|        No|     No|         No|     Up|                 No|                 No|                      No|                     No|                    No|    Ch|        Yes|        NO|\n",
            "|       16680|   42519267|      Caucasian|  Male| [40-50)|                1|                       1|                  7|               1|                51|             0|              8|                0|               0|               0|   197|   157|   250|               5|         None|     None|       No|         No|         No|            No|         No|           No|   Steady|       No|         No|          No|           No|      No|      No|          No|        No|     No|         No| Steady|                 No|                 No|                      No|                     No|                    No|    Ch|        Yes|        NO|\n",
            "|       35754|   82637451|      Caucasian|  Male| [50-60)|                2|                       1|                  2|               3|                31|             6|             16|                0|               0|               0|   414|   411|   250|               9|         None|     None|       No|         No|         No|            No|         No|           No|       No|       No|         No|          No|           No|      No|      No|          No|        No|     No|         No| Steady|                 No|                 No|                      No|                     No|                    No|    No|        Yes|       >30|\n",
            "|       55842|   84259809|      Caucasian|  Male| [60-70)|                3|                       1|                  2|               4|                70|             1|             21|                0|               0|               0|   414|   411|   V45|               7|         None|     None|   Steady|         No|         No|            No|     Steady|           No|       No|       No|         No|          No|           No|      No|      No|          No|        No|     No|         No| Steady|                 No|                 No|                      No|                     No|                    No|    Ch|        Yes|        NO|\n",
            "|       63768|  114882984|      Caucasian|  Male| [70-80)|                1|                       1|                  7|               5|                73|             0|             12|                0|               0|               0|   428|   492|   250|               8|         None|     None|       No|         No|         No|            No|         No|           No|       No|   Steady|         No|          No|           No|      No|      No|          No|        No|     No|         No|     No|                 No|                 No|                      No|                     No|                    No|    No|        Yes|       >30|\n",
            "|       12522|   48330783|      Caucasian|Female| [80-90)|                2|                       1|                  4|              13|                68|             2|             28|                0|               0|               0|   398|   427|    38|               8|         None|     None|       No|         No|         No|            No|         No|           No|   Steady|       No|         No|          No|           No|      No|      No|          No|        No|     No|         No| Steady|                 No|                 No|                      No|                     No|                    No|    Ch|        Yes|        NO|\n",
            "|       15738|   63555939|      Caucasian|Female|[90-100)|                3|                       3|                  4|              12|                33|             3|             18|                0|               0|               0|   434|   198|   486|               8|         None|     None|       No|         No|         No|            No|         No|           No|       No|       No|         No|          No|       Steady|      No|      No|          No|        No|     No|         No| Steady|                 No|                 No|                      No|                     No|                    No|    Ch|        Yes|        NO|\n",
            "|       28236|   89869032|AfricanAmerican|Female| [40-50)|                1|                       1|                  7|               9|                47|             2|             17|                0|               0|               0| 250.7|   403|   996|               9|         None|     None|       No|         No|         No|            No|         No|           No|       No|       No|         No|          No|           No|      No|      No|          No|        No|     No|         No| Steady|                 No|                 No|                      No|                     No|                    No|    No|        Yes|       >30|\n",
            "|       36900|   77391171|AfricanAmerican|  Male| [60-70)|                2|                       1|                  4|               7|                62|             0|             11|                0|               0|               0|   157|   288|   197|               7|         None|     None|       No|         No|         No|            No|         No|           No|       No|       Up|         No|          No|           No|      No|      No|          No|        No|     No|         No| Steady|                 No|                 No|                      No|                     No|                    No|    Ch|        Yes|       <30|\n",
            "|       40926|   85504905|      Caucasian|Female| [40-50)|                1|                       3|                  7|               7|                60|             0|             15|                0|               1|               0|   428|250.43| 250.6|               8|         None|     None|   Steady|         Up|         No|            No|         No|           No|       No|       No|         No|          No|           No|      No|      No|          No|        No|     No|         No|   Down|                 No|                 No|                      No|                     No|                    No|    Ch|        Yes|       <30|\n",
            "|       42570|   77586282|      Caucasian|  Male| [80-90)|                1|                       6|                  7|              10|                55|             1|             31|                0|               0|               0|   428|   411|   427|               8|         None|     None|       No|         No|         No|            No|         No|           No|       No|       No|         No|          No|           No|      No|      No|          No|        No|     No|         No| Steady|                 No|                 No|                      No|                     No|                    No|    No|        Yes|        NO|\n",
            "|       62256|   49726791|AfricanAmerican|Female| [60-70)|                3|                       1|                  2|               1|                49|             5|              2|                0|               0|               0|   518|   998|   627|               8|         None|     None|       No|         No|         No|            No|         No|           No|       No|       No|         No|          No|           No|      No|      No|          No|        No|     No|         No| Steady|                 No|                 No|                      No|                     No|                    No|    No|        Yes|       >30|\n",
            "|       73578|   86328819|AfricanAmerican|  Male| [60-70)|                1|                       3|                  7|              12|                75|             5|             13|                0|               0|               0|   999|   507|   996|               9|         None|     None|       No|         No|         No|            No|         No|           No|       No|       No|         No|          No|           No|      No|      No|          No|        No|     No|         No|     Up|                 No|                 No|                      No|                     No|                    No|    Ch|        Yes|        NO|\n",
            "|       77076|   92519352|AfricanAmerican|  Male| [50-60)|                1|                       1|                  7|               4|                45|             4|             17|                0|               0|               0|   410|   411|   414|               8|         None|     None|       No|         No|         No|            No|         No|           No|   Steady|       No|         No|          No|           No|      No|      No|          No|        No|     No|         No| Steady|                 No|                 No|                      No|                     No|                    No|    Ch|        Yes|       <30|\n",
            "|       84222|  108662661|      Caucasian|Female| [50-60)|                1|                       1|                  7|               3|                29|             0|             11|                0|               0|               0|   682|   174|   250|               3|         None|     None|       No|         No|         No|            No|         No|           No|       No|   Steady|         No|          No|           No|      No|      No|          No|        No|     No|         No|     No|                 No|                 No|                      No|                     No|                    No|    No|        Yes|        NO|\n",
            "|       89682|  107389323|AfricanAmerican|  Male| [70-80)|                1|                       1|                  7|               5|                35|             5|             23|                0|               0|               0|   402|   425|   416|               9|         None|     None|       No|         No|         No|            No|         No|           No|       No|       No|         No|          No|           No|      No|      No|          No|        No|     No|         No| Steady|                 No|                 No|                      No|                     No|                    No|    No|        Yes|       >30|\n",
            "|      148530|   69422211|              ?|  Male| [70-80)|                3|                       6|                  2|               6|                42|             2|             23|                0|               0|               0|   737|   427|   714|               8|         None|     None|       No|         No|         No|            No|         No|           No|       No|     Down|         No|          No|           No|      No|      No|          No|        No|     No|         No| Steady|                 No|                 No|                      No|                     No|                    No|    Ch|        Yes|        NO|\n",
            "+------------+-----------+---------------+------+--------+-----------------+------------------------+-------------------+----------------+------------------+--------------+---------------+-----------------+----------------+----------------+------+------+------+----------------+-------------+---------+---------+-----------+-----------+--------------+-----------+-------------+---------+---------+-----------+------------+-------------+--------+--------+------------+----------+-------+-----------+-------+-------------------+-------------------+------------------------+-----------------------+----------------------+------+-----------+----------+\n",
            "only showing top 20 rows\n",
            "\n"
          ]
        }
      ]
    },
    {
      "cell_type": "code",
      "source": [
        "dropped_df.info()"
      ],
      "metadata": {
        "colab": {
          "base_uri": "https://localhost:8080/",
          "height": 287
        },
        "id": "cAvSgj93HYw6",
        "outputId": "07a47310-109f-449e-d0f3-264e992560f1"
      },
      "execution_count": 97,
      "outputs": [
        {
          "output_type": "error",
          "ename": "AttributeError",
          "evalue": "ignored",
          "traceback": [
            "\u001b[0;31m---------------------------------------------------------------------------\u001b[0m",
            "\u001b[0;31mAttributeError\u001b[0m                            Traceback (most recent call last)",
            "\u001b[0;32m<ipython-input-97-739b564cc02e>\u001b[0m in \u001b[0;36m<module>\u001b[0;34m\u001b[0m\n\u001b[0;32m----> 1\u001b[0;31m \u001b[0mdropped_df\u001b[0m\u001b[0;34m.\u001b[0m\u001b[0minfo\u001b[0m\u001b[0;34m(\u001b[0m\u001b[0;34m)\u001b[0m\u001b[0;34m\u001b[0m\u001b[0;34m\u001b[0m\u001b[0m\n\u001b[0m",
            "\u001b[0;32m/content/spark-3.2.2-bin-hadoop3.2/python/pyspark/sql/dataframe.py\u001b[0m in \u001b[0;36m__getattr__\u001b[0;34m(self, name)\u001b[0m\n\u001b[1;32m   1658\u001b[0m         \u001b[0;32mif\u001b[0m \u001b[0mname\u001b[0m \u001b[0;32mnot\u001b[0m \u001b[0;32min\u001b[0m \u001b[0mself\u001b[0m\u001b[0;34m.\u001b[0m\u001b[0mcolumns\u001b[0m\u001b[0;34m:\u001b[0m\u001b[0;34m\u001b[0m\u001b[0;34m\u001b[0m\u001b[0m\n\u001b[1;32m   1659\u001b[0m             raise AttributeError(\n\u001b[0;32m-> 1660\u001b[0;31m                 \"'%s' object has no attribute '%s'\" % (self.__class__.__name__, name))\n\u001b[0m\u001b[1;32m   1661\u001b[0m         \u001b[0mjc\u001b[0m \u001b[0;34m=\u001b[0m \u001b[0mself\u001b[0m\u001b[0;34m.\u001b[0m\u001b[0m_jdf\u001b[0m\u001b[0;34m.\u001b[0m\u001b[0mapply\u001b[0m\u001b[0;34m(\u001b[0m\u001b[0mname\u001b[0m\u001b[0;34m)\u001b[0m\u001b[0;34m\u001b[0m\u001b[0;34m\u001b[0m\u001b[0m\n\u001b[1;32m   1662\u001b[0m         \u001b[0;32mreturn\u001b[0m \u001b[0mColumn\u001b[0m\u001b[0;34m(\u001b[0m\u001b[0mjc\u001b[0m\u001b[0;34m)\u001b[0m\u001b[0;34m\u001b[0m\u001b[0;34m\u001b[0m\u001b[0m\n",
            "\u001b[0;31mAttributeError\u001b[0m: 'DataFrame' object has no attribute 'info'"
          ]
        }
      ]
    },
    {
      "cell_type": "markdown",
      "source": [
        "### Break down the Master dataset into normalized tables.\n",
        "# Patient\n",
        "*   patient_nbr (PK)\n",
        "*   age\n",
        "*   gender\n",
        "*   race\n",
        "# Admission_type\n",
        "*   admission_type_id (PK)\n",
        "*   admission_name\n",
        "# Admission source\n",
        "*   admission_source_id (PK)\n",
        "*   asmission_source_name\n",
        "# Discharge Table\n",
        "-discharge_disposition_id (PK)\n",
        "-discharge_name\n",
        "# Medication Table\n",
        "-medication__id (PK)\n",
        "-medication_type\n",
        "# Patient_medication Table\n",
        "-medication__id (PK)\n",
        "-encounter_id (PK)\n",
        "-change_in_dosage\n",
        "# Diagnosis Table\n",
        "-diagnosis_id\n",
        "-diagnosis_type\n",
        "# Encounter Table\n",
        "-encounter_id (PK)\n",
        "-patient_nbr (FK)\n",
        "-num_lab_procedures\n",
        "-num_procedures\n",
        "-num_medications\n",
        "-number_emergency\n",
        "-number_outpatient\n",
        "-number_inpatient\n",
        "-time_in_hospital\n",
        "-readmitted\n",
        "-admission_type_id (FK)\n",
        "-admission_source_id (FK)\n",
        "-discharge_disposition_id (FK)\n",
        "-diag_1(FK)\n",
        "-diag_2(FK)\n",
        "-diag_3(FK)\n",
        "-number_diagnoses\n",
        "-change\n",
        "-A1Cresult\n",
        "-max_glu_serum\n",
        "-diabetesMed\n",
        "\n",
        "\n",
        "\n",
        "\n",
        "\n"
      ],
      "metadata": {
        "id": "lA7FqodCagGT"
      }
    },
    {
      "cell_type": "code",
      "source": [
        "#create a patient table with unique patient number to remove duplicates\n",
        "def patient_tab(df):\n",
        "  uniq_patient_number=df.drop_duplicates(subset = \"patient_nbr\")\n",
        "  patient_table=uniq_patient_number[['patient_nbr','age','race','gender']].reset_index().set_index('patient_nbr').drop(columns=['index'])\n",
        "  return patient_table"
      ],
      "metadata": {
        "id": "nmQLhF8sYsHX"
      },
      "execution_count": null,
      "outputs": []
    },
    {
      "cell_type": "code",
      "source": [
        "#call on the patient tab fundtion to see the patient table\n",
        "patient_table=patient_tab(dropped_df)\n",
        "patient_table.head()"
      ],
      "metadata": {
        "id": "hnNH7_pif-Vp"
      },
      "execution_count": null,
      "outputs": []
    },
    {
      "cell_type": "code",
      "source": [
        "patient_table.to_csv('Patient_Table.csv')"
      ],
      "metadata": {
        "id": "VHubvZH_6UIr"
      },
      "execution_count": null,
      "outputs": []
    },
    {
      "cell_type": "code",
      "source": [
        "#read in the admission type csv file \n",
        "admission_type=pd.read_csv('admission_type.csv')\n",
        "admission_type.head()"
      ],
      "metadata": {
        "id": "ci4YAwYtUq4k"
      },
      "execution_count": null,
      "outputs": []
    },
    {
      "cell_type": "code",
      "source": [
        "#read in the admission source csv file\n",
        "admission_source=pd.read_csv('admission_source.csv')\n",
        "admission_source.info()"
      ],
      "metadata": {
        "id": "61ojl8VdLlTT"
      },
      "execution_count": null,
      "outputs": []
    },
    {
      "cell_type": "code",
      "source": [
        "#read in the discharge csv file\n",
        "discharge_disposition=pd.read_csv('discharge_disposition.csv')\n",
        "discharge_disposition.head()"
      ],
      "metadata": {
        "id": "yRFeFRRRhbcI"
      },
      "execution_count": null,
      "outputs": []
    },
    {
      "cell_type": "code",
      "source": [
        "#Create Medication table\n",
        "def medic_tab(df):\n",
        "  medication_id=np.arange(1,24)\n",
        "  medication_type=df.columns.values[21:44]\n",
        "  Medication=pd.DataFrame({\"medication_id\":medication_id, \"medication_type\":medication_type})\n",
        "  return(Medication)"
      ],
      "metadata": {
        "id": "qT1KP0E7oPO-"
      },
      "execution_count": null,
      "outputs": []
    },
    {
      "cell_type": "code",
      "source": [
        "#Preview the medication tab\n",
        "Medication=medic_tab(dropped_df)\n",
        "Medication.head()"
      ],
      "metadata": {
        "id": "StBWh84rlKil"
      },
      "execution_count": null,
      "outputs": []
    },
    {
      "cell_type": "code",
      "source": [
        "Medication.to_csv('Medication Table.csv')"
      ],
      "metadata": {
        "id": "sViyKFWN6mTO"
      },
      "execution_count": null,
      "outputs": []
    },
    {
      "cell_type": "code",
      "source": [
        "df=dropped_df"
      ],
      "metadata": {
        "id": "XY-ifhUxH_mg"
      },
      "execution_count": null,
      "outputs": []
    },
    {
      "cell_type": "code",
      "source": [
        "#Create Patient medication table\n",
        "#def patient_medic(df):\n",
        "#create two empty dataframes to update the new information with\n",
        "patient_med = pd.DataFrame()\n",
        "patient_med_up = pd.DataFrame()\n",
        "#loop through medication type to get the corresponing columns\n",
        "for i in Medication['medication_type']:\n",
        "  if i=='metformin':\n",
        "#retrieve the encounter id for all meedications that were changed\n",
        "patient_med['encounter_id']=df['encounter_id'].where((df[i]=='Down') | (df[i]=='Up') | (df[i]=='Steady')).dropna()\n",
        "#assign medical Id number for all medication types\n",
        "patient_med['medication_id']=i\n",
        "patient_med['medication_id'] = Medication['medication_id'].where(Medication['medication_type']==i).dropna()[0]\n",
        "#retrieve the change in dosage\n",
        "patient_med['change_in_dosage']=df[i].where((df[i]=='Up') | (df[i]=='Down') | (df[i]=='Steady')).dropna()\n",
        "elif i!='metformin':\n",
        "patient_med_up['encounter_id']=df['encounter_id'].where((df[i]=='Down') | (df[i]=='Up') | (df[i]=='Steady')).dropna()\n",
        "patient_med_up['medication_id']=i\n",
        "patient_med_up['medication_id'] = Medication['medication_id'].where(Medication['medication_type']==i).dropna().values[0]\n",
        "patient_med_up['change_in_dosage']=df[i].where((df[i]=='Up') | (df[i]=='Down') | (df[i]=='Steady')).dropna()\n",
        "patient_medication=patient_med.append(patient_med_up).dropna()\n"
      ],
      "metadata": {
        "id": "fCSLRe4kQuHQ"
      },
      "execution_count": null,
      "outputs": []
    },
    {
      "cell_type": "code",
      "source": [
        "patient_medication"
      ],
      "metadata": {
        "id": "zVHYqYscJg0n"
      },
      "execution_count": null,
      "outputs": []
    },
    {
      "cell_type": "code",
      "source": [
        "#Preview patient medication table\n",
        "patient_medication=patient_medic(dropped_df)\n",
        "patient_medication.head()"
      ],
      "metadata": {
        "id": "QkNm5Yq89x36"
      },
      "execution_count": null,
      "outputs": []
    },
    {
      "cell_type": "code",
      "source": [
        "#create the dosage table\n",
        "diag_df=pd.read_csv('ICD-9_Code_1998.csv', sep=',')\n",
        "#split columns into to two\n",
        "diag_df_new=diag_df['ICD TITLE & CODE CROSS REFERENCE FILE'].str.split('\\s+-\\d|\\s+_1', expand=True)\n",
        "#drop empty columns and rename the columns\n",
        "diag_df_n=diag_df_new.drop(columns=[2]).dropna()\n",
        "diag_df_n.head()"
      ],
      "metadata": {
        "id": "mrUAqPMVLkKq"
      },
      "execution_count": null,
      "outputs": []
    },
    {
      "cell_type": "code",
      "source": [
        "#clean catgeories\n",
        "strs=[]\n",
        "for i in diag_df_n[1]:\n",
        "  try:\n",
        "    if '-' in i:\n",
        "      strs.append(i)\n",
        "    pd.to_numeric(i, downcast='float')\n",
        "  except:\n",
        "    if i[0]!='E':\n",
        "      strs.append(i)\n",
        "diag_df_cln = diag_df_n.copy(deep=True)\n",
        "for i in strs:\n",
        "  diag_df_cln = diag_df_cln.where(diag_df_cln[1]!=i)\n",
        "diag_df_cln=diag_df_cln.dropna()"
      ],
      "metadata": {
        "id": "cyXJjgvETTWB"
      },
      "execution_count": null,
      "outputs": []
    },
    {
      "cell_type": "code",
      "source": [
        "#delete rows with category data\n",
        "diag_df_cln = diag_df_n.copy(deep=True)\n",
        "for i in strs:\n",
        "  diag_df_cln = diag_df_cln.where(diag_df_cln[1]!=i).dropna()\n",
        "# diag_df_cln=diag_df_cln\n",
        "diagnosis_table=diag_df_cln.rename(columns={0:\"diagnosis_type\",1:\"diagnosis_code\"}).reset_index().drop(columns=['index'])"
      ],
      "metadata": {
        "id": "jfUv7xTwEJS3"
      },
      "execution_count": null,
      "outputs": []
    },
    {
      "cell_type": "code",
      "source": [
        "#preview diagnosis table\n",
        "diagnosis_table.to_csv('Diagnosis Table.csv')\n",
        "diagnosis_table['diagnosis_type'].where"
      ],
      "metadata": {
        "id": "xRV6k3fpLlyl"
      },
      "execution_count": null,
      "outputs": []
    },
    {
      "cell_type": "code",
      "source": [
        "#create an encounter Table\n",
        "def encount(df):\n",
        "  new_patient_table=np.delete(patient_table.columns.values, [0])\n",
        "  values=[]\n",
        "  for i in df.columns.values:\n",
        "    if (i in Medication.medication_type.values) or (i in new_patient_table):\n",
        "      values.append(i)\n",
        "  Encounter=dropped_df.drop(columns=values)\n",
        "  return (Encounter)"
      ],
      "metadata": {
        "id": "RXjvPy6S6Zfg"
      },
      "execution_count": null,
      "outputs": []
    },
    {
      "cell_type": "code",
      "source": [
        "#preview encounter table\n",
        "Encounter = encount(dropped_df)\n",
        "Encounter.to_csv('Encounter table.csv')\n",
        "Encounter.head()"
      ],
      "metadata": {
        "id": "Wwo9p6ok_XLA"
      },
      "execution_count": null,
      "outputs": []
    },
    {
      "cell_type": "markdown",
      "source": [
        "# **Quality assurance process**"
      ],
      "metadata": {
        "id": "ilRtIY1_9-gM"
      }
    },
    {
      "cell_type": "markdown",
      "source": [
        "#Assertion test 1"
      ],
      "metadata": {
        "id": "BDQ-ZqgrFPxR"
      }
    },
    {
      "cell_type": "code",
      "source": [
        "def len_patient_table(df):\n",
        "  len(df.columns)==50"
      ],
      "metadata": {
        "id": "hTjjXBLQDyxw"
      },
      "execution_count": null,
      "outputs": []
    },
    {
      "cell_type": "code",
      "source": [
        "def assert_patient_table_pass():\n",
        "  assert len_patient_table(dropped_df)==50"
      ],
      "metadata": {
        "id": "4nZLP3AHC8Lh"
      },
      "execution_count": null,
      "outputs": []
    },
    {
      "cell_type": "code",
      "source": [
        "def assert_patient_table_1():\n",
        "  assert len_patient_table(dropped_df)==40"
      ],
      "metadata": {
        "id": "Nrpbx90-DMC8"
      },
      "execution_count": null,
      "outputs": []
    },
    {
      "cell_type": "markdown",
      "source": [
        "# Assertion test 2"
      ],
      "metadata": {
        "id": "AGKnKBxhFTow"
      }
    },
    {
      "cell_type": "code",
      "source": [
        "def check_meds(df):\n",
        "  assert np.array_equal(Medication.medication_type.values, df.columns.values[24:47])"
      ],
      "metadata": {
        "id": "8KXPOzohEWU8"
      },
      "execution_count": null,
      "outputs": []
    },
    {
      "cell_type": "code",
      "source": [
        "db_df.columns.values[24:47]"
      ],
      "metadata": {
        "id": "BPiopyVjaZnc"
      },
      "execution_count": null,
      "outputs": []
    },
    {
      "cell_type": "code",
      "source": [
        "check_meds(db_df)"
      ],
      "metadata": {
        "id": "ZblvAJWBHH8X"
      },
      "execution_count": null,
      "outputs": []
    },
    {
      "cell_type": "code",
      "source": [
        "def assert_patient_medication():\n",
        "  assert patient_medication['medication_id'].nunique()==23"
      ],
      "metadata": {
        "id": "X_sg3cSQGIWX"
      },
      "execution_count": null,
      "outputs": []
    },
    {
      "cell_type": "code",
      "source": [
        "assert_patient_medication()"
      ],
      "metadata": {
        "id": "I9HICQx6GI8R"
      },
      "execution_count": null,
      "outputs": []
    },
    {
      "cell_type": "code",
      "source": [
        " "
      ],
      "metadata": {
        "id": "3DeLrAEhG1q9"
      },
      "execution_count": null,
      "outputs": []
    },
    {
      "cell_type": "code",
      "source": [],
      "metadata": {
        "id": "UekiTW6XOJpw"
      },
      "execution_count": null,
      "outputs": []
    }
  ]
}